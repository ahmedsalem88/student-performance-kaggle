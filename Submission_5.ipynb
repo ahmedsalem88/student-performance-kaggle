{
 "cells": [
  {
   "cell_type": "markdown",
   "id": "b40f4e90",
   "metadata": {
    "id": "iCTA6kl3n2O1",
    "papermill": {
     "duration": 0.013192,
     "end_time": "2023-04-29T09:28:25.112846",
     "exception": false,
     "start_time": "2023-04-29T09:28:25.099654",
     "status": "completed"
    },
    "tags": []
   },
   "source": [
    "### Student Performance from Game Play Using TensorFlow Decision Forests"
   ]
  },
  {
   "cell_type": "markdown",
   "id": "9bddbb4e",
   "metadata": {
    "id": "zAXHC6-Tn2O5",
    "papermill": {
     "duration": 0.011813,
     "end_time": "2023-04-29T09:28:25.136644",
     "exception": false,
     "start_time": "2023-04-29T09:28:25.124831",
     "status": "completed"
    },
    "tags": []
   },
   "source": [
    "### `Import the Required Libraries`"
   ]
  },
  {
   "cell_type": "code",
   "execution_count": 1,
   "id": "4c39fcff",
   "metadata": {
    "execution": {
     "iopub.execute_input": "2023-04-29T09:28:25.165017Z",
     "iopub.status.busy": "2023-04-29T09:28:25.164238Z",
     "iopub.status.idle": "2023-04-29T09:28:36.589395Z",
     "shell.execute_reply": "2023-04-29T09:28:36.588066Z"
    },
    "id": "IanlX-Eqn2O5",
    "papermill": {
     "duration": 11.441711,
     "end_time": "2023-04-29T09:28:36.592444",
     "exception": false,
     "start_time": "2023-04-29T09:28:25.150733",
     "status": "completed"
    },
    "tags": []
   },
   "outputs": [],
   "source": [
    "import pandas as pd\n",
    "import numpy as np\n",
    "import matplotlib.pyplot as plt\n",
    "import seaborn as sns\n",
    "\n",
    "import tensorflow as tf\n",
    "import tensorflow_addons as tfa\n",
    "import tensorflow_decision_forests as tfdf"
   ]
  },
  {
   "cell_type": "markdown",
   "id": "485e9497",
   "metadata": {
    "id": "22DpLVFLn2O7",
    "papermill": {
     "duration": 0.011401,
     "end_time": "2023-04-29T09:28:36.615739",
     "exception": false,
     "start_time": "2023-04-29T09:28:36.604338",
     "status": "completed"
    },
    "tags": []
   },
   "source": [
    "### `Load the Dataset & Modify DataTypes for better performance`\n",
    "\n",
    "* `int32 is much lighter than int64`\n",
    "* `float32 is much lighter than float64`\n",
    "* `Categorty datatype is much better than object datatype`"
   ]
  },
  {
   "cell_type": "code",
   "execution_count": 2,
   "id": "242f1b66",
   "metadata": {
    "execution": {
     "iopub.execute_input": "2023-04-29T09:28:36.642550Z",
     "iopub.status.busy": "2023-04-29T09:28:36.641474Z",
     "iopub.status.idle": "2023-04-29T09:30:54.043766Z",
     "shell.execute_reply": "2023-04-29T09:30:54.042323Z"
    },
    "id": "_XItl24kn2O7",
    "papermill": {
     "duration": 137.431382,
     "end_time": "2023-04-29T09:30:54.058990",
     "exception": false,
     "start_time": "2023-04-29T09:28:36.627608",
     "status": "completed"
    },
    "tags": []
   },
   "outputs": [
    {
     "name": "stdout",
     "output_type": "stream",
     "text": [
      "The Shape of Training Dataset is: (26296946, 20)\n"
     ]
    }
   ],
   "source": [
    "## Modify DataTypes of the columns\n",
    "cols_dtypes={\n",
    "                'elapsed_time':np.int32,\n",
    "                'event_name':'category',\n",
    "                'name':'category',\n",
    "                'level':np.uint8,\n",
    "                'room_coor_x':np.float32,\n",
    "                'room_coor_y':np.float32,\n",
    "                'screen_coor_x':np.float32,\n",
    "                'screen_coor_y':np.float32,\n",
    "                'hover_duration':np.float32,\n",
    "                'text':'category',\n",
    "                'fqid':'category',\n",
    "                'room_fqid':'category',\n",
    "                'text_fqid':'category',\n",
    "                'fullscreen':'category',\n",
    "                'hq':'category',\n",
    "                'music':'category',\n",
    "                'level_group':'category'}\n",
    "\n",
    "df_train = pd.read_csv('/kaggle/input/predict-student-performance-from-game-play/train.csv', dtype=cols_dtypes)\n",
    "print('The Shape of Training Dataset is:', df_train.shape)"
   ]
  },
  {
   "cell_type": "markdown",
   "id": "3138e8fd",
   "metadata": {
    "id": "kwJDjr_Rn2O8",
    "papermill": {
     "duration": 0.011714,
     "end_time": "2023-04-29T09:30:54.083037",
     "exception": false,
     "start_time": "2023-04-29T09:30:54.071323",
     "status": "completed"
    },
    "tags": []
   },
   "source": [
    "#### `Comment: The data is composed of 20 columns and 26296946 entries.`"
   ]
  },
  {
   "cell_type": "code",
   "execution_count": 3,
   "id": "558eed93",
   "metadata": {
    "execution": {
     "iopub.execute_input": "2023-04-29T09:30:54.110096Z",
     "iopub.status.busy": "2023-04-29T09:30:54.109273Z",
     "iopub.status.idle": "2023-04-29T09:30:54.151583Z",
     "shell.execute_reply": "2023-04-29T09:30:54.150309Z"
    },
    "id": "-RTRVRiWn2O8",
    "papermill": {
     "duration": 0.058899,
     "end_time": "2023-04-29T09:30:54.154428",
     "exception": false,
     "start_time": "2023-04-29T09:30:54.095529",
     "status": "completed"
    },
    "tags": []
   },
   "outputs": [
    {
     "data": {
      "text/html": [
       "<div>\n",
       "<style scoped>\n",
       "    .dataframe tbody tr th:only-of-type {\n",
       "        vertical-align: middle;\n",
       "    }\n",
       "\n",
       "    .dataframe tbody tr th {\n",
       "        vertical-align: top;\n",
       "    }\n",
       "\n",
       "    .dataframe thead th {\n",
       "        text-align: right;\n",
       "    }\n",
       "</style>\n",
       "<table border=\"1\" class=\"dataframe\">\n",
       "  <thead>\n",
       "    <tr style=\"text-align: right;\">\n",
       "      <th></th>\n",
       "      <th>session_id</th>\n",
       "      <th>index</th>\n",
       "      <th>elapsed_time</th>\n",
       "      <th>event_name</th>\n",
       "      <th>name</th>\n",
       "      <th>level</th>\n",
       "      <th>page</th>\n",
       "      <th>room_coor_x</th>\n",
       "      <th>room_coor_y</th>\n",
       "      <th>screen_coor_x</th>\n",
       "      <th>screen_coor_y</th>\n",
       "      <th>hover_duration</th>\n",
       "      <th>text</th>\n",
       "      <th>fqid</th>\n",
       "      <th>room_fqid</th>\n",
       "      <th>text_fqid</th>\n",
       "      <th>fullscreen</th>\n",
       "      <th>hq</th>\n",
       "      <th>music</th>\n",
       "      <th>level_group</th>\n",
       "    </tr>\n",
       "  </thead>\n",
       "  <tbody>\n",
       "    <tr>\n",
       "      <th>0</th>\n",
       "      <td>20090312431273200</td>\n",
       "      <td>0</td>\n",
       "      <td>0</td>\n",
       "      <td>cutscene_click</td>\n",
       "      <td>basic</td>\n",
       "      <td>0</td>\n",
       "      <td>NaN</td>\n",
       "      <td>-413.991394</td>\n",
       "      <td>-159.314682</td>\n",
       "      <td>380.0</td>\n",
       "      <td>494.0</td>\n",
       "      <td>NaN</td>\n",
       "      <td>undefined</td>\n",
       "      <td>intro</td>\n",
       "      <td>tunic.historicalsociety.closet</td>\n",
       "      <td>tunic.historicalsociety.closet.intro</td>\n",
       "      <td>0</td>\n",
       "      <td>0</td>\n",
       "      <td>1</td>\n",
       "      <td>0-4</td>\n",
       "    </tr>\n",
       "    <tr>\n",
       "      <th>1</th>\n",
       "      <td>20090312431273200</td>\n",
       "      <td>1</td>\n",
       "      <td>1323</td>\n",
       "      <td>person_click</td>\n",
       "      <td>basic</td>\n",
       "      <td>0</td>\n",
       "      <td>NaN</td>\n",
       "      <td>-413.991394</td>\n",
       "      <td>-159.314682</td>\n",
       "      <td>380.0</td>\n",
       "      <td>494.0</td>\n",
       "      <td>NaN</td>\n",
       "      <td>Whatcha doing over there, Jo?</td>\n",
       "      <td>gramps</td>\n",
       "      <td>tunic.historicalsociety.closet</td>\n",
       "      <td>tunic.historicalsociety.closet.gramps.intro_0_...</td>\n",
       "      <td>0</td>\n",
       "      <td>0</td>\n",
       "      <td>1</td>\n",
       "      <td>0-4</td>\n",
       "    </tr>\n",
       "    <tr>\n",
       "      <th>2</th>\n",
       "      <td>20090312431273200</td>\n",
       "      <td>2</td>\n",
       "      <td>831</td>\n",
       "      <td>person_click</td>\n",
       "      <td>basic</td>\n",
       "      <td>0</td>\n",
       "      <td>NaN</td>\n",
       "      <td>-413.991394</td>\n",
       "      <td>-159.314682</td>\n",
       "      <td>380.0</td>\n",
       "      <td>494.0</td>\n",
       "      <td>NaN</td>\n",
       "      <td>Just talking to Teddy.</td>\n",
       "      <td>gramps</td>\n",
       "      <td>tunic.historicalsociety.closet</td>\n",
       "      <td>tunic.historicalsociety.closet.gramps.intro_0_...</td>\n",
       "      <td>0</td>\n",
       "      <td>0</td>\n",
       "      <td>1</td>\n",
       "      <td>0-4</td>\n",
       "    </tr>\n",
       "    <tr>\n",
       "      <th>3</th>\n",
       "      <td>20090312431273200</td>\n",
       "      <td>3</td>\n",
       "      <td>1147</td>\n",
       "      <td>person_click</td>\n",
       "      <td>basic</td>\n",
       "      <td>0</td>\n",
       "      <td>NaN</td>\n",
       "      <td>-413.991394</td>\n",
       "      <td>-159.314682</td>\n",
       "      <td>380.0</td>\n",
       "      <td>494.0</td>\n",
       "      <td>NaN</td>\n",
       "      <td>I gotta run to my meeting!</td>\n",
       "      <td>gramps</td>\n",
       "      <td>tunic.historicalsociety.closet</td>\n",
       "      <td>tunic.historicalsociety.closet.gramps.intro_0_...</td>\n",
       "      <td>0</td>\n",
       "      <td>0</td>\n",
       "      <td>1</td>\n",
       "      <td>0-4</td>\n",
       "    </tr>\n",
       "    <tr>\n",
       "      <th>4</th>\n",
       "      <td>20090312431273200</td>\n",
       "      <td>4</td>\n",
       "      <td>1863</td>\n",
       "      <td>person_click</td>\n",
       "      <td>basic</td>\n",
       "      <td>0</td>\n",
       "      <td>NaN</td>\n",
       "      <td>-412.991394</td>\n",
       "      <td>-159.314682</td>\n",
       "      <td>381.0</td>\n",
       "      <td>494.0</td>\n",
       "      <td>NaN</td>\n",
       "      <td>Can I come, Gramps?</td>\n",
       "      <td>gramps</td>\n",
       "      <td>tunic.historicalsociety.closet</td>\n",
       "      <td>tunic.historicalsociety.closet.gramps.intro_0_...</td>\n",
       "      <td>0</td>\n",
       "      <td>0</td>\n",
       "      <td>1</td>\n",
       "      <td>0-4</td>\n",
       "    </tr>\n",
       "  </tbody>\n",
       "</table>\n",
       "</div>"
      ],
      "text/plain": [
       "          session_id  index  elapsed_time      event_name   name  level  page  \\\n",
       "0  20090312431273200      0             0  cutscene_click  basic      0   NaN   \n",
       "1  20090312431273200      1          1323    person_click  basic      0   NaN   \n",
       "2  20090312431273200      2           831    person_click  basic      0   NaN   \n",
       "3  20090312431273200      3          1147    person_click  basic      0   NaN   \n",
       "4  20090312431273200      4          1863    person_click  basic      0   NaN   \n",
       "\n",
       "   room_coor_x  room_coor_y  screen_coor_x  screen_coor_y  hover_duration  \\\n",
       "0  -413.991394  -159.314682          380.0          494.0             NaN   \n",
       "1  -413.991394  -159.314682          380.0          494.0             NaN   \n",
       "2  -413.991394  -159.314682          380.0          494.0             NaN   \n",
       "3  -413.991394  -159.314682          380.0          494.0             NaN   \n",
       "4  -412.991394  -159.314682          381.0          494.0             NaN   \n",
       "\n",
       "                            text    fqid                       room_fqid  \\\n",
       "0                      undefined   intro  tunic.historicalsociety.closet   \n",
       "1  Whatcha doing over there, Jo?  gramps  tunic.historicalsociety.closet   \n",
       "2         Just talking to Teddy.  gramps  tunic.historicalsociety.closet   \n",
       "3     I gotta run to my meeting!  gramps  tunic.historicalsociety.closet   \n",
       "4            Can I come, Gramps?  gramps  tunic.historicalsociety.closet   \n",
       "\n",
       "                                           text_fqid fullscreen hq music  \\\n",
       "0               tunic.historicalsociety.closet.intro          0  0     1   \n",
       "1  tunic.historicalsociety.closet.gramps.intro_0_...          0  0     1   \n",
       "2  tunic.historicalsociety.closet.gramps.intro_0_...          0  0     1   \n",
       "3  tunic.historicalsociety.closet.gramps.intro_0_...          0  0     1   \n",
       "4  tunic.historicalsociety.closet.gramps.intro_0_...          0  0     1   \n",
       "\n",
       "  level_group  \n",
       "0         0-4  \n",
       "1         0-4  \n",
       "2         0-4  \n",
       "3         0-4  \n",
       "4         0-4  "
      ]
     },
     "execution_count": 3,
     "metadata": {},
     "output_type": "execute_result"
    }
   ],
   "source": [
    "## Check the head\n",
    "df_train.head()"
   ]
  },
  {
   "cell_type": "code",
   "execution_count": 4,
   "id": "43302eb4",
   "metadata": {
    "execution": {
     "iopub.execute_input": "2023-04-29T09:30:54.182617Z",
     "iopub.status.busy": "2023-04-29T09:30:54.181774Z",
     "iopub.status.idle": "2023-04-29T09:30:54.204758Z",
     "shell.execute_reply": "2023-04-29T09:30:54.203734Z"
    },
    "papermill": {
     "duration": 0.040665,
     "end_time": "2023-04-29T09:30:54.207591",
     "exception": false,
     "start_time": "2023-04-29T09:30:54.166926",
     "status": "completed"
    },
    "tags": []
   },
   "outputs": [
    {
     "name": "stdout",
     "output_type": "stream",
     "text": [
      "<class 'pandas.core.frame.DataFrame'>\n",
      "RangeIndex: 26296946 entries, 0 to 26296945\n",
      "Data columns (total 20 columns):\n",
      " #   Column          Dtype   \n",
      "---  ------          -----   \n",
      " 0   session_id      int64   \n",
      " 1   index           int64   \n",
      " 2   elapsed_time    int32   \n",
      " 3   event_name      category\n",
      " 4   name            category\n",
      " 5   level           uint8   \n",
      " 6   page            float64 \n",
      " 7   room_coor_x     float32 \n",
      " 8   room_coor_y     float32 \n",
      " 9   screen_coor_x   float32 \n",
      " 10  screen_coor_y   float32 \n",
      " 11  hover_duration  float32 \n",
      " 12  text            category\n",
      " 13  fqid            category\n",
      " 14  room_fqid       category\n",
      " 15  text_fqid       category\n",
      " 16  fullscreen      category\n",
      " 17  hq              category\n",
      " 18  music           category\n",
      " 19  level_group     category\n",
      "dtypes: category(10), float32(5), float64(1), int32(1), int64(2), uint8(1)\n",
      "memory usage: 1.5 GB\n"
     ]
    }
   ],
   "source": [
    "## Check the Info for the dataset\n",
    "df_train.info()"
   ]
  },
  {
   "cell_type": "markdown",
   "id": "5161cd2f",
   "metadata": {
    "id": "ReNY-i3bn2O8",
    "papermill": {
     "duration": 0.012735,
     "end_time": "2023-04-29T09:30:54.233750",
     "exception": false,
     "start_time": "2023-04-29T09:30:54.221015",
     "status": "completed"
    },
    "tags": []
   },
   "source": [
    "### Load the labels\n",
    "\n",
    "* `The labels for the training dataset are stored in the **train_labels.csv**`.\n",
    "* `It consists of the information on whether the user in a particular session answered each question correctly.`"
   ]
  },
  {
   "cell_type": "code",
   "execution_count": 5,
   "id": "5f733bbe",
   "metadata": {
    "execution": {
     "iopub.execute_input": "2023-04-29T09:30:54.263174Z",
     "iopub.status.busy": "2023-04-29T09:30:54.262145Z",
     "iopub.status.idle": "2023-04-29T09:30:54.731697Z",
     "shell.execute_reply": "2023-04-29T09:30:54.730254Z"
    },
    "id": "KD4uayl2n2O9",
    "papermill": {
     "duration": 0.487823,
     "end_time": "2023-04-29T09:30:54.734527",
     "exception": false,
     "start_time": "2023-04-29T09:30:54.246704",
     "status": "completed"
    },
    "tags": []
   },
   "outputs": [
    {
     "data": {
      "text/html": [
       "<div>\n",
       "<style scoped>\n",
       "    .dataframe tbody tr th:only-of-type {\n",
       "        vertical-align: middle;\n",
       "    }\n",
       "\n",
       "    .dataframe tbody tr th {\n",
       "        vertical-align: top;\n",
       "    }\n",
       "\n",
       "    .dataframe thead th {\n",
       "        text-align: right;\n",
       "    }\n",
       "</style>\n",
       "<table border=\"1\" class=\"dataframe\">\n",
       "  <thead>\n",
       "    <tr style=\"text-align: right;\">\n",
       "      <th></th>\n",
       "      <th>session_id</th>\n",
       "      <th>correct</th>\n",
       "    </tr>\n",
       "  </thead>\n",
       "  <tbody>\n",
       "    <tr>\n",
       "      <th>0</th>\n",
       "      <td>20090312431273200_q1</td>\n",
       "      <td>1</td>\n",
       "    </tr>\n",
       "    <tr>\n",
       "      <th>1</th>\n",
       "      <td>20090312433251036_q1</td>\n",
       "      <td>0</td>\n",
       "    </tr>\n",
       "    <tr>\n",
       "      <th>2</th>\n",
       "      <td>20090312455206810_q1</td>\n",
       "      <td>1</td>\n",
       "    </tr>\n",
       "    <tr>\n",
       "      <th>3</th>\n",
       "      <td>20090313091715820_q1</td>\n",
       "      <td>0</td>\n",
       "    </tr>\n",
       "    <tr>\n",
       "      <th>4</th>\n",
       "      <td>20090313571836404_q1</td>\n",
       "      <td>1</td>\n",
       "    </tr>\n",
       "  </tbody>\n",
       "</table>\n",
       "</div>"
      ],
      "text/plain": [
       "             session_id  correct\n",
       "0  20090312431273200_q1        1\n",
       "1  20090312433251036_q1        0\n",
       "2  20090312455206810_q1        1\n",
       "3  20090313091715820_q1        0\n",
       "4  20090313571836404_q1        1"
      ]
     },
     "execution_count": 5,
     "metadata": {},
     "output_type": "execute_result"
    }
   ],
   "source": [
    "## Load the labels file\n",
    "data_labels = pd.read_csv('/kaggle/input/predict-student-performance-from-game-play/train_labels.csv')\n",
    "data_labels.head()"
   ]
  },
  {
   "cell_type": "code",
   "execution_count": 6,
   "id": "6695c88d",
   "metadata": {
    "execution": {
     "iopub.execute_input": "2023-04-29T09:30:54.762486Z",
     "iopub.status.busy": "2023-04-29T09:30:54.761623Z",
     "iopub.status.idle": "2023-04-29T09:30:55.548949Z",
     "shell.execute_reply": "2023-04-29T09:30:55.547311Z"
    },
    "papermill": {
     "duration": 0.804397,
     "end_time": "2023-04-29T09:30:55.551827",
     "exception": false,
     "start_time": "2023-04-29T09:30:54.747430",
     "status": "completed"
    },
    "tags": []
   },
   "outputs": [
    {
     "data": {
      "text/html": [
       "<div>\n",
       "<style scoped>\n",
       "    .dataframe tbody tr th:only-of-type {\n",
       "        vertical-align: middle;\n",
       "    }\n",
       "\n",
       "    .dataframe tbody tr th {\n",
       "        vertical-align: top;\n",
       "    }\n",
       "\n",
       "    .dataframe thead th {\n",
       "        text-align: right;\n",
       "    }\n",
       "</style>\n",
       "<table border=\"1\" class=\"dataframe\">\n",
       "  <thead>\n",
       "    <tr style=\"text-align: right;\">\n",
       "      <th></th>\n",
       "      <th>session_id</th>\n",
       "      <th>correct</th>\n",
       "      <th>session</th>\n",
       "      <th>question</th>\n",
       "    </tr>\n",
       "  </thead>\n",
       "  <tbody>\n",
       "    <tr>\n",
       "      <th>0</th>\n",
       "      <td>20090312431273200_q1</td>\n",
       "      <td>1</td>\n",
       "      <td>20090312431273200</td>\n",
       "      <td>1</td>\n",
       "    </tr>\n",
       "    <tr>\n",
       "      <th>1</th>\n",
       "      <td>20090312433251036_q1</td>\n",
       "      <td>0</td>\n",
       "      <td>20090312433251036</td>\n",
       "      <td>1</td>\n",
       "    </tr>\n",
       "    <tr>\n",
       "      <th>2</th>\n",
       "      <td>20090312455206810_q1</td>\n",
       "      <td>1</td>\n",
       "      <td>20090312455206810</td>\n",
       "      <td>1</td>\n",
       "    </tr>\n",
       "    <tr>\n",
       "      <th>3</th>\n",
       "      <td>20090313091715820_q1</td>\n",
       "      <td>0</td>\n",
       "      <td>20090313091715820</td>\n",
       "      <td>1</td>\n",
       "    </tr>\n",
       "    <tr>\n",
       "      <th>4</th>\n",
       "      <td>20090313571836404_q1</td>\n",
       "      <td>1</td>\n",
       "      <td>20090313571836404</td>\n",
       "      <td>1</td>\n",
       "    </tr>\n",
       "  </tbody>\n",
       "</table>\n",
       "</div>"
      ],
      "text/plain": [
       "             session_id  correct            session  question\n",
       "0  20090312431273200_q1        1  20090312431273200         1\n",
       "1  20090312433251036_q1        0  20090312433251036         1\n",
       "2  20090312455206810_q1        1  20090312455206810         1\n",
       "3  20090313091715820_q1        0  20090313091715820         1\n",
       "4  20090313571836404_q1        1  20090313571836404         1"
      ]
     },
     "execution_count": 6,
     "metadata": {},
     "output_type": "execute_result"
    }
   ],
   "source": [
    "## Split the (session_id) to both the session and number of question\n",
    "data_labels['session'] = data_labels['session_id'].apply(lambda x: int(x.split('_')[0]))\n",
    "data_labels['question'] = data_labels['session_id'].apply(lambda x: int(x.split('_')[-1][1:]))  ## the number of question\n",
    "data_labels.head()"
   ]
  },
  {
   "cell_type": "markdown",
   "id": "684ad373",
   "metadata": {
    "id": "7rQSOYAYqcZ2",
    "papermill": {
     "duration": 0.012926,
     "end_time": "2023-04-29T09:30:55.578070",
     "exception": false,
     "start_time": "2023-04-29T09:30:55.565144",
     "status": "completed"
    },
    "tags": []
   },
   "source": [
    "#### `Our goal is to train models for each question to predict the label `correct` for any input user session.`"
   ]
  },
  {
   "cell_type": "markdown",
   "id": "1f47face",
   "metadata": {
    "papermill": {
     "duration": 0.013586,
     "end_time": "2023-04-29T09:30:55.606140",
     "exception": false,
     "start_time": "2023-04-29T09:30:55.592554",
     "status": "completed"
    },
    "tags": []
   },
   "source": [
    "### `Visualization`"
   ]
  },
  {
   "cell_type": "markdown",
   "id": "1bc402ad",
   "metadata": {
    "papermill": {
     "duration": 0.014025,
     "end_time": "2023-04-29T09:30:55.633480",
     "exception": false,
     "start_time": "2023-04-29T09:30:55.619455",
     "status": "completed"
    },
    "tags": []
   },
   "source": [
    "#### `CountPlot for correct column in all dataset`"
   ]
  },
  {
   "cell_type": "code",
   "execution_count": 7,
   "id": "1508dcbf",
   "metadata": {
    "execution": {
     "iopub.execute_input": "2023-04-29T09:30:55.662586Z",
     "iopub.status.busy": "2023-04-29T09:30:55.662161Z",
     "iopub.status.idle": "2023-04-29T09:30:55.873589Z",
     "shell.execute_reply": "2023-04-29T09:30:55.872649Z"
    },
    "id": "-l9wBCTYn2O_",
    "papermill": {
     "duration": 0.230516,
     "end_time": "2023-04-29T09:30:55.876833",
     "exception": false,
     "start_time": "2023-04-29T09:30:55.646317",
     "status": "completed"
    },
    "tags": []
   },
   "outputs": [
    {
     "data": {
      "image/png": "[encoded data removed]",
      "text/plain": [
       "<Figure size 640x480 with 1 Axes>"
      ]
     },
     "metadata": {},
     "output_type": "display_data"
    }
   ],
   "source": [
    "## CountPlot for correct column in labels\n",
    "sns.countplot(x='correct', data=data_labels)\n",
    "plt.title('CountPlot for correct value (labels)', fontsize=12, color='k')\n",
    "plt.xlabel('Correct', fontsize=12, color='k')\n",
    "plt.ylabel('Count', fontsize=12, color='k')\n",
    "plt.show()"
   ]
  },
  {
   "cell_type": "markdown",
   "id": "b34de998",
   "metadata": {
    "papermill": {
     "duration": 0.013348,
     "end_time": "2023-04-29T09:30:55.903735",
     "exception": false,
     "start_time": "2023-04-29T09:30:55.890387",
     "status": "completed"
    },
    "tags": []
   },
   "source": [
    "#### `plot countplot for correct column (labels) for each question`"
   ]
  },
  {
   "cell_type": "code",
   "execution_count": 8,
   "id": "967d8265",
   "metadata": {
    "execution": {
     "iopub.execute_input": "2023-04-29T09:30:55.933444Z",
     "iopub.status.busy": "2023-04-29T09:30:55.932164Z",
     "iopub.status.idle": "2023-04-29T09:30:58.734915Z",
     "shell.execute_reply": "2023-04-29T09:30:58.733928Z"
    },
    "papermill": {
     "duration": 2.821543,
     "end_time": "2023-04-29T09:30:58.738945",
     "exception": false,
     "start_time": "2023-04-29T09:30:55.917402",
     "status": "completed"
    },
    "tags": []
   },
   "outputs": [
    {
     "data": {
      "image/png": "[encoded data removed]",
      "text/plain": [
       "<Figure size 2000x2000 with 18 Axes>"
      ]
     },
     "metadata": {},
     "output_type": "display_data"
    }
   ],
   "source": [
    "## plot the values of correct column (labels) for each question.\n",
    "q_num = data_labels['question'].unique().reshape(6, 3)\n",
    "fig, ax = plt.subplots(6, 3, figsize=(20, 20))\n",
    "fig.tight_layout(pad=5)\n",
    "for row in range(6):\n",
    "    for col in range(3):\n",
    "        plt.sca(ax[row, col])\n",
    "        sns.countplot(x=data_labels[data_labels['question']==q_num[row, col]]['correct'])\n",
    "        plt.xlabel('Correct Label')\n",
    "        plt.ylabel('Count')\n",
    "        plt.title(f'Question: {q_num[row, col]}')"
   ]
  },
  {
   "cell_type": "markdown",
   "id": "444ccffb",
   "metadata": {
    "id": "y5fK05dsn2O_",
    "papermill": {
     "duration": 0.015432,
     "end_time": "2023-04-29T09:30:58.770491",
     "exception": false,
     "start_time": "2023-04-29T09:30:58.755059",
     "status": "completed"
    },
    "tags": []
   },
   "source": [
    "### `Data Preprocessing`\n",
    "\n",
    "As summarized in the competition overview, the dataset presents the questions and data to us in order of `levels - level segments`(represented by column `level_group`) 0-4, 5-12, and 13-22. We have to predict the correctness of each segment's questions as they are presented. To do this we will create basic aggregate features from the relevant columns. You can create more features to boost your scores. \n",
    "\n",
    "First, we will create two separate lists with names of the Categorical columns and Numerical columns. Taking more features"
   ]
  },
  {
   "cell_type": "markdown",
   "id": "6170ef4b",
   "metadata": {
    "papermill": {
     "duration": 0.015648,
     "end_time": "2023-04-29T09:30:58.801820",
     "exception": false,
     "start_time": "2023-04-29T09:30:58.786172",
     "status": "completed"
    },
    "tags": []
   },
   "source": [
    "#### `Feature Engineering`"
   ]
  },
  {
   "cell_type": "code",
   "execution_count": 9,
   "id": "098018fc",
   "metadata": {
    "execution": {
     "iopub.execute_input": "2023-04-29T09:30:58.836723Z",
     "iopub.status.busy": "2023-04-29T09:30:58.835972Z",
     "iopub.status.idle": "2023-04-29T09:30:58.841773Z",
     "shell.execute_reply": "2023-04-29T09:30:58.840556Z"
    },
    "id": "cCZWGiL_n2PA",
    "papermill": {
     "duration": 0.02603,
     "end_time": "2023-04-29T09:30:58.844058",
     "exception": false,
     "start_time": "2023-04-29T09:30:58.818028",
     "status": "completed"
    },
    "tags": []
   },
   "outputs": [],
   "source": [
    "## Take only the features you interested in\n",
    "categ_cols = ['event_name', 'name','fqid', 'room_fqid', 'text_fqid']\n",
    "num_cols = ['elapsed_time','level','page','room_coor_x', 'room_coor_y', 'screen_coor_x', 'screen_coor_y', 'hover_duration']"
   ]
  },
  {
   "cell_type": "markdown",
   "id": "1e1a2482",
   "metadata": {
    "id": "Us9sScDSn2PA",
    "papermill": {
     "duration": 0.015505,
     "end_time": "2023-04-29T09:30:58.875765",
     "exception": false,
     "start_time": "2023-04-29T09:30:58.860260",
     "status": "completed"
    },
    "tags": []
   },
   "source": [
    "For each categorical column, we will first group the dataset by `session_id`  and `level_group`. We will then count the number of **distinct elements** in the column for each group and store it temporarily.\n",
    "\n",
    "For all numerical columns, we will group the dataset by `session id` and `level_group`. Instead of counting the number of distinct elements, we will calculate the `mean` and `standard deviation` of the numerical column for each group and store it temporarily.\n",
    "\n",
    "After this, we will concatenate the temporary data frames we generated in the earlier step for each column to create our new feature engineered dataset."
   ]
  },
  {
   "cell_type": "code",
   "execution_count": 10,
   "id": "8ee65e13",
   "metadata": {
    "execution": {
     "iopub.execute_input": "2023-04-29T09:30:58.910393Z",
     "iopub.status.busy": "2023-04-29T09:30:58.909519Z",
     "iopub.status.idle": "2023-04-29T09:30:58.935352Z",
     "shell.execute_reply": "2023-04-29T09:30:58.934437Z"
    },
    "papermill": {
     "duration": 0.045944,
     "end_time": "2023-04-29T09:30:58.937757",
     "exception": false,
     "start_time": "2023-04-29T09:30:58.891813",
     "status": "completed"
    },
    "tags": []
   },
   "outputs": [
    {
     "data": {
      "text/html": [
       "<div>\n",
       "<style scoped>\n",
       "    .dataframe tbody tr th:only-of-type {\n",
       "        vertical-align: middle;\n",
       "    }\n",
       "\n",
       "    .dataframe tbody tr th {\n",
       "        vertical-align: top;\n",
       "    }\n",
       "\n",
       "    .dataframe thead th {\n",
       "        text-align: right;\n",
       "    }\n",
       "</style>\n",
       "<table border=\"1\" class=\"dataframe\">\n",
       "  <thead>\n",
       "    <tr style=\"text-align: right;\">\n",
       "      <th></th>\n",
       "      <th>session_id</th>\n",
       "      <th>index</th>\n",
       "      <th>elapsed_time</th>\n",
       "      <th>event_name</th>\n",
       "      <th>name</th>\n",
       "      <th>level</th>\n",
       "      <th>page</th>\n",
       "      <th>room_coor_x</th>\n",
       "      <th>room_coor_y</th>\n",
       "      <th>screen_coor_x</th>\n",
       "      <th>screen_coor_y</th>\n",
       "      <th>hover_duration</th>\n",
       "      <th>text</th>\n",
       "      <th>fqid</th>\n",
       "      <th>room_fqid</th>\n",
       "      <th>text_fqid</th>\n",
       "      <th>fullscreen</th>\n",
       "      <th>hq</th>\n",
       "      <th>music</th>\n",
       "      <th>level_group</th>\n",
       "    </tr>\n",
       "  </thead>\n",
       "  <tbody>\n",
       "    <tr>\n",
       "      <th>0</th>\n",
       "      <td>20090312431273200</td>\n",
       "      <td>0</td>\n",
       "      <td>0</td>\n",
       "      <td>cutscene_click</td>\n",
       "      <td>basic</td>\n",
       "      <td>0</td>\n",
       "      <td>NaN</td>\n",
       "      <td>-413.991394</td>\n",
       "      <td>-159.314682</td>\n",
       "      <td>380.0</td>\n",
       "      <td>494.0</td>\n",
       "      <td>NaN</td>\n",
       "      <td>undefined</td>\n",
       "      <td>intro</td>\n",
       "      <td>tunic.historicalsociety.closet</td>\n",
       "      <td>tunic.historicalsociety.closet.intro</td>\n",
       "      <td>0</td>\n",
       "      <td>0</td>\n",
       "      <td>1</td>\n",
       "      <td>0-4</td>\n",
       "    </tr>\n",
       "    <tr>\n",
       "      <th>1</th>\n",
       "      <td>20090312431273200</td>\n",
       "      <td>1</td>\n",
       "      <td>1323</td>\n",
       "      <td>person_click</td>\n",
       "      <td>basic</td>\n",
       "      <td>0</td>\n",
       "      <td>NaN</td>\n",
       "      <td>-413.991394</td>\n",
       "      <td>-159.314682</td>\n",
       "      <td>380.0</td>\n",
       "      <td>494.0</td>\n",
       "      <td>NaN</td>\n",
       "      <td>Whatcha doing over there, Jo?</td>\n",
       "      <td>gramps</td>\n",
       "      <td>tunic.historicalsociety.closet</td>\n",
       "      <td>tunic.historicalsociety.closet.gramps.intro_0_...</td>\n",
       "      <td>0</td>\n",
       "      <td>0</td>\n",
       "      <td>1</td>\n",
       "      <td>0-4</td>\n",
       "    </tr>\n",
       "    <tr>\n",
       "      <th>2</th>\n",
       "      <td>20090312431273200</td>\n",
       "      <td>2</td>\n",
       "      <td>831</td>\n",
       "      <td>person_click</td>\n",
       "      <td>basic</td>\n",
       "      <td>0</td>\n",
       "      <td>NaN</td>\n",
       "      <td>-413.991394</td>\n",
       "      <td>-159.314682</td>\n",
       "      <td>380.0</td>\n",
       "      <td>494.0</td>\n",
       "      <td>NaN</td>\n",
       "      <td>Just talking to Teddy.</td>\n",
       "      <td>gramps</td>\n",
       "      <td>tunic.historicalsociety.closet</td>\n",
       "      <td>tunic.historicalsociety.closet.gramps.intro_0_...</td>\n",
       "      <td>0</td>\n",
       "      <td>0</td>\n",
       "      <td>1</td>\n",
       "      <td>0-4</td>\n",
       "    </tr>\n",
       "    <tr>\n",
       "      <th>3</th>\n",
       "      <td>20090312431273200</td>\n",
       "      <td>3</td>\n",
       "      <td>1147</td>\n",
       "      <td>person_click</td>\n",
       "      <td>basic</td>\n",
       "      <td>0</td>\n",
       "      <td>NaN</td>\n",
       "      <td>-413.991394</td>\n",
       "      <td>-159.314682</td>\n",
       "      <td>380.0</td>\n",
       "      <td>494.0</td>\n",
       "      <td>NaN</td>\n",
       "      <td>I gotta run to my meeting!</td>\n",
       "      <td>gramps</td>\n",
       "      <td>tunic.historicalsociety.closet</td>\n",
       "      <td>tunic.historicalsociety.closet.gramps.intro_0_...</td>\n",
       "      <td>0</td>\n",
       "      <td>0</td>\n",
       "      <td>1</td>\n",
       "      <td>0-4</td>\n",
       "    </tr>\n",
       "    <tr>\n",
       "      <th>4</th>\n",
       "      <td>20090312431273200</td>\n",
       "      <td>4</td>\n",
       "      <td>1863</td>\n",
       "      <td>person_click</td>\n",
       "      <td>basic</td>\n",
       "      <td>0</td>\n",
       "      <td>NaN</td>\n",
       "      <td>-412.991394</td>\n",
       "      <td>-159.314682</td>\n",
       "      <td>381.0</td>\n",
       "      <td>494.0</td>\n",
       "      <td>NaN</td>\n",
       "      <td>Can I come, Gramps?</td>\n",
       "      <td>gramps</td>\n",
       "      <td>tunic.historicalsociety.closet</td>\n",
       "      <td>tunic.historicalsociety.closet.gramps.intro_0_...</td>\n",
       "      <td>0</td>\n",
       "      <td>0</td>\n",
       "      <td>1</td>\n",
       "      <td>0-4</td>\n",
       "    </tr>\n",
       "  </tbody>\n",
       "</table>\n",
       "</div>"
      ],
      "text/plain": [
       "          session_id  index  elapsed_time      event_name   name  level  page  \\\n",
       "0  20090312431273200      0             0  cutscene_click  basic      0   NaN   \n",
       "1  20090312431273200      1          1323    person_click  basic      0   NaN   \n",
       "2  20090312431273200      2           831    person_click  basic      0   NaN   \n",
       "3  20090312431273200      3          1147    person_click  basic      0   NaN   \n",
       "4  20090312431273200      4          1863    person_click  basic      0   NaN   \n",
       "\n",
       "   room_coor_x  room_coor_y  screen_coor_x  screen_coor_y  hover_duration  \\\n",
       "0  -413.991394  -159.314682          380.0          494.0             NaN   \n",
       "1  -413.991394  -159.314682          380.0          494.0             NaN   \n",
       "2  -413.991394  -159.314682          380.0          494.0             NaN   \n",
       "3  -413.991394  -159.314682          380.0          494.0             NaN   \n",
       "4  -412.991394  -159.314682          381.0          494.0             NaN   \n",
       "\n",
       "                            text    fqid                       room_fqid  \\\n",
       "0                      undefined   intro  tunic.historicalsociety.closet   \n",
       "1  Whatcha doing over there, Jo?  gramps  tunic.historicalsociety.closet   \n",
       "2         Just talking to Teddy.  gramps  tunic.historicalsociety.closet   \n",
       "3     I gotta run to my meeting!  gramps  tunic.historicalsociety.closet   \n",
       "4            Can I come, Gramps?  gramps  tunic.historicalsociety.closet   \n",
       "\n",
       "                                           text_fqid fullscreen hq music  \\\n",
       "0               tunic.historicalsociety.closet.intro          0  0     1   \n",
       "1  tunic.historicalsociety.closet.gramps.intro_0_...          0  0     1   \n",
       "2  tunic.historicalsociety.closet.gramps.intro_0_...          0  0     1   \n",
       "3  tunic.historicalsociety.closet.gramps.intro_0_...          0  0     1   \n",
       "4  tunic.historicalsociety.closet.gramps.intro_0_...          0  0     1   \n",
       "\n",
       "  level_group  \n",
       "0         0-4  \n",
       "1         0-4  \n",
       "2         0-4  \n",
       "3         0-4  \n",
       "4         0-4  "
      ]
     },
     "execution_count": 10,
     "metadata": {},
     "output_type": "execute_result"
    }
   ],
   "source": [
    "df_train.head()"
   ]
  },
  {
   "cell_type": "code",
   "execution_count": 11,
   "id": "54af72df",
   "metadata": {
    "execution": {
     "iopub.execute_input": "2023-04-29T09:30:58.974125Z",
     "iopub.status.busy": "2023-04-29T09:30:58.973295Z",
     "iopub.status.idle": "2023-04-29T09:31:01.889912Z",
     "shell.execute_reply": "2023-04-29T09:31:01.888981Z"
    },
    "papermill": {
     "duration": 2.938145,
     "end_time": "2023-04-29T09:31:01.892371",
     "exception": false,
     "start_time": "2023-04-29T09:30:58.954226",
     "status": "completed"
    },
    "tags": []
   },
   "outputs": [
    {
     "data": {
      "text/html": [
       "<div>\n",
       "<style scoped>\n",
       "    .dataframe tbody tr th:only-of-type {\n",
       "        vertical-align: middle;\n",
       "    }\n",
       "\n",
       "    .dataframe tbody tr th {\n",
       "        vertical-align: top;\n",
       "    }\n",
       "\n",
       "    .dataframe thead th {\n",
       "        text-align: right;\n",
       "    }\n",
       "</style>\n",
       "<table border=\"1\" class=\"dataframe\">\n",
       "  <thead>\n",
       "    <tr style=\"text-align: right;\">\n",
       "      <th></th>\n",
       "      <th>session_id</th>\n",
       "      <th>index</th>\n",
       "      <th>elapsed_time</th>\n",
       "      <th>event_name</th>\n",
       "      <th>name</th>\n",
       "      <th>level</th>\n",
       "      <th>page</th>\n",
       "      <th>room_coor_x</th>\n",
       "      <th>room_coor_y</th>\n",
       "      <th>screen_coor_x</th>\n",
       "      <th>screen_coor_y</th>\n",
       "      <th>hover_duration</th>\n",
       "      <th>text</th>\n",
       "      <th>fqid</th>\n",
       "      <th>room_fqid</th>\n",
       "      <th>text_fqid</th>\n",
       "      <th>fullscreen</th>\n",
       "      <th>hq</th>\n",
       "      <th>music</th>\n",
       "      <th>level_group</th>\n",
       "    </tr>\n",
       "  </thead>\n",
       "  <tbody>\n",
       "    <tr>\n",
       "      <th>1</th>\n",
       "      <td>20090312431273200</td>\n",
       "      <td>1</td>\n",
       "      <td>1323</td>\n",
       "      <td>person_click</td>\n",
       "      <td>basic</td>\n",
       "      <td>0</td>\n",
       "      <td>NaN</td>\n",
       "      <td>-413.991394</td>\n",
       "      <td>-159.314682</td>\n",
       "      <td>380.0</td>\n",
       "      <td>494.0</td>\n",
       "      <td>NaN</td>\n",
       "      <td>Whatcha doing over there, Jo?</td>\n",
       "      <td>gramps</td>\n",
       "      <td>tunic.historicalsociety.closet</td>\n",
       "      <td>tunic.historicalsociety.closet.gramps.intro_0_...</td>\n",
       "      <td>0</td>\n",
       "      <td>0</td>\n",
       "      <td>1</td>\n",
       "      <td>0-4</td>\n",
       "    </tr>\n",
       "    <tr>\n",
       "      <th>2</th>\n",
       "      <td>20090312431273200</td>\n",
       "      <td>2</td>\n",
       "      <td>831</td>\n",
       "      <td>person_click</td>\n",
       "      <td>basic</td>\n",
       "      <td>0</td>\n",
       "      <td>NaN</td>\n",
       "      <td>-413.991394</td>\n",
       "      <td>-159.314682</td>\n",
       "      <td>380.0</td>\n",
       "      <td>494.0</td>\n",
       "      <td>NaN</td>\n",
       "      <td>Just talking to Teddy.</td>\n",
       "      <td>gramps</td>\n",
       "      <td>tunic.historicalsociety.closet</td>\n",
       "      <td>tunic.historicalsociety.closet.gramps.intro_0_...</td>\n",
       "      <td>0</td>\n",
       "      <td>0</td>\n",
       "      <td>1</td>\n",
       "      <td>0-4</td>\n",
       "    </tr>\n",
       "    <tr>\n",
       "      <th>3</th>\n",
       "      <td>20090312431273200</td>\n",
       "      <td>3</td>\n",
       "      <td>1147</td>\n",
       "      <td>person_click</td>\n",
       "      <td>basic</td>\n",
       "      <td>0</td>\n",
       "      <td>NaN</td>\n",
       "      <td>-413.991394</td>\n",
       "      <td>-159.314682</td>\n",
       "      <td>380.0</td>\n",
       "      <td>494.0</td>\n",
       "      <td>NaN</td>\n",
       "      <td>I gotta run to my meeting!</td>\n",
       "      <td>gramps</td>\n",
       "      <td>tunic.historicalsociety.closet</td>\n",
       "      <td>tunic.historicalsociety.closet.gramps.intro_0_...</td>\n",
       "      <td>0</td>\n",
       "      <td>0</td>\n",
       "      <td>1</td>\n",
       "      <td>0-4</td>\n",
       "    </tr>\n",
       "    <tr>\n",
       "      <th>4</th>\n",
       "      <td>20090312431273200</td>\n",
       "      <td>4</td>\n",
       "      <td>1863</td>\n",
       "      <td>person_click</td>\n",
       "      <td>basic</td>\n",
       "      <td>0</td>\n",
       "      <td>NaN</td>\n",
       "      <td>-412.991394</td>\n",
       "      <td>-159.314682</td>\n",
       "      <td>381.0</td>\n",
       "      <td>494.0</td>\n",
       "      <td>NaN</td>\n",
       "      <td>Can I come, Gramps?</td>\n",
       "      <td>gramps</td>\n",
       "      <td>tunic.historicalsociety.closet</td>\n",
       "      <td>tunic.historicalsociety.closet.gramps.intro_0_...</td>\n",
       "      <td>0</td>\n",
       "      <td>0</td>\n",
       "      <td>1</td>\n",
       "      <td>0-4</td>\n",
       "    </tr>\n",
       "    <tr>\n",
       "      <th>5</th>\n",
       "      <td>20090312431273200</td>\n",
       "      <td>5</td>\n",
       "      <td>3423</td>\n",
       "      <td>person_click</td>\n",
       "      <td>basic</td>\n",
       "      <td>0</td>\n",
       "      <td>NaN</td>\n",
       "      <td>-412.991394</td>\n",
       "      <td>-157.314682</td>\n",
       "      <td>381.0</td>\n",
       "      <td>492.0</td>\n",
       "      <td>NaN</td>\n",
       "      <td>Sure thing, Jo. Grab your notebook and come up...</td>\n",
       "      <td>gramps</td>\n",
       "      <td>tunic.historicalsociety.closet</td>\n",
       "      <td>tunic.historicalsociety.closet.gramps.intro_0_...</td>\n",
       "      <td>0</td>\n",
       "      <td>0</td>\n",
       "      <td>1</td>\n",
       "      <td>0-4</td>\n",
       "    </tr>\n",
       "    <tr>\n",
       "      <th>...</th>\n",
       "      <td>...</td>\n",
       "      <td>...</td>\n",
       "      <td>...</td>\n",
       "      <td>...</td>\n",
       "      <td>...</td>\n",
       "      <td>...</td>\n",
       "      <td>...</td>\n",
       "      <td>...</td>\n",
       "      <td>...</td>\n",
       "      <td>...</td>\n",
       "      <td>...</td>\n",
       "      <td>...</td>\n",
       "      <td>...</td>\n",
       "      <td>...</td>\n",
       "      <td>...</td>\n",
       "      <td>...</td>\n",
       "      <td>...</td>\n",
       "      <td>...</td>\n",
       "      <td>...</td>\n",
       "      <td>...</td>\n",
       "    </tr>\n",
       "    <tr>\n",
       "      <th>26296941</th>\n",
       "      <td>22100221145014656</td>\n",
       "      <td>1600</td>\n",
       "      <td>5483231</td>\n",
       "      <td>navigate_click</td>\n",
       "      <td>undefined</td>\n",
       "      <td>22</td>\n",
       "      <td>NaN</td>\n",
       "      <td>343.887299</td>\n",
       "      <td>36.701027</td>\n",
       "      <td>483.0</td>\n",
       "      <td>273.0</td>\n",
       "      <td>NaN</td>\n",
       "      <td>NaN</td>\n",
       "      <td>NaN</td>\n",
       "      <td>tunic.capitol_2.hall</td>\n",
       "      <td>NaN</td>\n",
       "      <td>0</td>\n",
       "      <td>0</td>\n",
       "      <td>1</td>\n",
       "      <td>13-22</td>\n",
       "    </tr>\n",
       "    <tr>\n",
       "      <th>26296942</th>\n",
       "      <td>22100221145014656</td>\n",
       "      <td>1601</td>\n",
       "      <td>5485166</td>\n",
       "      <td>navigate_click</td>\n",
       "      <td>undefined</td>\n",
       "      <td>22</td>\n",
       "      <td>NaN</td>\n",
       "      <td>332.696075</td>\n",
       "      <td>141.493179</td>\n",
       "      <td>545.0</td>\n",
       "      <td>221.0</td>\n",
       "      <td>NaN</td>\n",
       "      <td>NaN</td>\n",
       "      <td>chap4_finale_c</td>\n",
       "      <td>tunic.capitol_2.hall</td>\n",
       "      <td>NaN</td>\n",
       "      <td>0</td>\n",
       "      <td>0</td>\n",
       "      <td>1</td>\n",
       "      <td>13-22</td>\n",
       "    </tr>\n",
       "    <tr>\n",
       "      <th>26296943</th>\n",
       "      <td>22100221145014656</td>\n",
       "      <td>1602</td>\n",
       "      <td>5485917</td>\n",
       "      <td>navigate_click</td>\n",
       "      <td>undefined</td>\n",
       "      <td>22</td>\n",
       "      <td>NaN</td>\n",
       "      <td>369.912872</td>\n",
       "      <td>140.569199</td>\n",
       "      <td>611.0</td>\n",
       "      <td>217.0</td>\n",
       "      <td>NaN</td>\n",
       "      <td>NaN</td>\n",
       "      <td>NaN</td>\n",
       "      <td>tunic.capitol_2.hall</td>\n",
       "      <td>NaN</td>\n",
       "      <td>0</td>\n",
       "      <td>0</td>\n",
       "      <td>1</td>\n",
       "      <td>13-22</td>\n",
       "    </tr>\n",
       "    <tr>\n",
       "      <th>26296944</th>\n",
       "      <td>22100221145014656</td>\n",
       "      <td>1603</td>\n",
       "      <td>5486753</td>\n",
       "      <td>navigate_click</td>\n",
       "      <td>undefined</td>\n",
       "      <td>22</td>\n",
       "      <td>NaN</td>\n",
       "      <td>252.299652</td>\n",
       "      <td>123.805893</td>\n",
       "      <td>526.0</td>\n",
       "      <td>232.0</td>\n",
       "      <td>NaN</td>\n",
       "      <td>NaN</td>\n",
       "      <td>chap4_finale_c</td>\n",
       "      <td>tunic.capitol_2.hall</td>\n",
       "      <td>NaN</td>\n",
       "      <td>0</td>\n",
       "      <td>0</td>\n",
       "      <td>1</td>\n",
       "      <td>13-22</td>\n",
       "    </tr>\n",
       "    <tr>\n",
       "      <th>26296945</th>\n",
       "      <td>22100221145014656</td>\n",
       "      <td>1604</td>\n",
       "      <td>5487952</td>\n",
       "      <td>checkpoint</td>\n",
       "      <td>basic</td>\n",
       "      <td>22</td>\n",
       "      <td>NaN</td>\n",
       "      <td>NaN</td>\n",
       "      <td>NaN</td>\n",
       "      <td>NaN</td>\n",
       "      <td>NaN</td>\n",
       "      <td>NaN</td>\n",
       "      <td>NaN</td>\n",
       "      <td>chap4_finale_c</td>\n",
       "      <td>tunic.capitol_2.hall</td>\n",
       "      <td>NaN</td>\n",
       "      <td>0</td>\n",
       "      <td>0</td>\n",
       "      <td>1</td>\n",
       "      <td>13-22</td>\n",
       "    </tr>\n",
       "  </tbody>\n",
       "</table>\n",
       "<p>26273384 rows × 20 columns</p>\n",
       "</div>"
      ],
      "text/plain": [
       "                 session_id  index  elapsed_time      event_name       name  \\\n",
       "1         20090312431273200      1          1323    person_click      basic   \n",
       "2         20090312431273200      2           831    person_click      basic   \n",
       "3         20090312431273200      3          1147    person_click      basic   \n",
       "4         20090312431273200      4          1863    person_click      basic   \n",
       "5         20090312431273200      5          3423    person_click      basic   \n",
       "...                     ...    ...           ...             ...        ...   \n",
       "26296941  22100221145014656   1600       5483231  navigate_click  undefined   \n",
       "26296942  22100221145014656   1601       5485166  navigate_click  undefined   \n",
       "26296943  22100221145014656   1602       5485917  navigate_click  undefined   \n",
       "26296944  22100221145014656   1603       5486753  navigate_click  undefined   \n",
       "26296945  22100221145014656   1604       5487952      checkpoint      basic   \n",
       "\n",
       "          level  page  room_coor_x  room_coor_y  screen_coor_x  screen_coor_y  \\\n",
       "1             0   NaN  -413.991394  -159.314682          380.0          494.0   \n",
       "2             0   NaN  -413.991394  -159.314682          380.0          494.0   \n",
       "3             0   NaN  -413.991394  -159.314682          380.0          494.0   \n",
       "4             0   NaN  -412.991394  -159.314682          381.0          494.0   \n",
       "5             0   NaN  -412.991394  -157.314682          381.0          492.0   \n",
       "...         ...   ...          ...          ...            ...            ...   \n",
       "26296941     22   NaN   343.887299    36.701027          483.0          273.0   \n",
       "26296942     22   NaN   332.696075   141.493179          545.0          221.0   \n",
       "26296943     22   NaN   369.912872   140.569199          611.0          217.0   \n",
       "26296944     22   NaN   252.299652   123.805893          526.0          232.0   \n",
       "26296945     22   NaN          NaN          NaN            NaN            NaN   \n",
       "\n",
       "          hover_duration                                               text  \\\n",
       "1                    NaN                      Whatcha doing over there, Jo?   \n",
       "2                    NaN                             Just talking to Teddy.   \n",
       "3                    NaN                         I gotta run to my meeting!   \n",
       "4                    NaN                                Can I come, Gramps?   \n",
       "5                    NaN  Sure thing, Jo. Grab your notebook and come up...   \n",
       "...                  ...                                                ...   \n",
       "26296941             NaN                                                NaN   \n",
       "26296942             NaN                                                NaN   \n",
       "26296943             NaN                                                NaN   \n",
       "26296944             NaN                                                NaN   \n",
       "26296945             NaN                                                NaN   \n",
       "\n",
       "                    fqid                       room_fqid  \\\n",
       "1                 gramps  tunic.historicalsociety.closet   \n",
       "2                 gramps  tunic.historicalsociety.closet   \n",
       "3                 gramps  tunic.historicalsociety.closet   \n",
       "4                 gramps  tunic.historicalsociety.closet   \n",
       "5                 gramps  tunic.historicalsociety.closet   \n",
       "...                  ...                             ...   \n",
       "26296941             NaN            tunic.capitol_2.hall   \n",
       "26296942  chap4_finale_c            tunic.capitol_2.hall   \n",
       "26296943             NaN            tunic.capitol_2.hall   \n",
       "26296944  chap4_finale_c            tunic.capitol_2.hall   \n",
       "26296945  chap4_finale_c            tunic.capitol_2.hall   \n",
       "\n",
       "                                                  text_fqid fullscreen hq  \\\n",
       "1         tunic.historicalsociety.closet.gramps.intro_0_...          0  0   \n",
       "2         tunic.historicalsociety.closet.gramps.intro_0_...          0  0   \n",
       "3         tunic.historicalsociety.closet.gramps.intro_0_...          0  0   \n",
       "4         tunic.historicalsociety.closet.gramps.intro_0_...          0  0   \n",
       "5         tunic.historicalsociety.closet.gramps.intro_0_...          0  0   \n",
       "...                                                     ...        ... ..   \n",
       "26296941                                                NaN          0  0   \n",
       "26296942                                                NaN          0  0   \n",
       "26296943                                                NaN          0  0   \n",
       "26296944                                                NaN          0  0   \n",
       "26296945                                                NaN          0  0   \n",
       "\n",
       "         music level_group  \n",
       "1            1         0-4  \n",
       "2            1         0-4  \n",
       "3            1         0-4  \n",
       "4            1         0-4  \n",
       "5            1         0-4  \n",
       "...        ...         ...  \n",
       "26296941     1       13-22  \n",
       "26296942     1       13-22  \n",
       "26296943     1       13-22  \n",
       "26296944     1       13-22  \n",
       "26296945     1       13-22  \n",
       "\n",
       "[26273384 rows x 20 columns]"
      ]
     },
     "execution_count": 11,
     "metadata": {},
     "output_type": "execute_result"
    }
   ],
   "source": [
    "## Note: there are duplicaets\n",
    "df_train[df_train[['session_id']].duplicated()]"
   ]
  },
  {
   "cell_type": "code",
   "execution_count": 12,
   "id": "3f3f8e49",
   "metadata": {
    "execution": {
     "iopub.execute_input": "2023-04-29T09:31:01.933237Z",
     "iopub.status.busy": "2023-04-29T09:31:01.932394Z",
     "iopub.status.idle": "2023-04-29T09:31:01.941239Z",
     "shell.execute_reply": "2023-04-29T09:31:01.940168Z"
    },
    "id": "nHWhAOtTn2PA",
    "papermill": {
     "duration": 0.034502,
     "end_time": "2023-04-29T09:31:01.943865",
     "exception": false,
     "start_time": "2023-04-29T09:31:01.909363",
     "status": "completed"
    },
    "tags": []
   },
   "outputs": [],
   "source": [
    "## Feature Engineering Function\n",
    "## For each Categorical column -- get the number of unique values in it after grouping by (session_id & level_group)\n",
    "## For each Numerical column -- get mean & std after grouping by (session_id & level_group)\n",
    "def feature_engineering(dataset):\n",
    "    dfs = []\n",
    "    for c in categ_cols:\n",
    "        tmp = dataset.groupby(['session_id','level_group'])[c].agg('nunique')\n",
    "        tmp.name = tmp.name + '_nunique'\n",
    "        dfs.append(tmp)\n",
    "    for c in num_cols:\n",
    "        tmp = dataset.groupby(['session_id','level_group'])[c].agg('mean')\n",
    "        dfs.append(tmp)\n",
    "    for c in num_cols:\n",
    "        tmp = dataset.groupby(['session_id','level_group'])[c].agg('std')\n",
    "        tmp.name = tmp.name + '_std'\n",
    "        dfs.append(tmp)\n",
    "        \n",
    "    ## Concatenate all of them finally\n",
    "    dataset_df = pd.concat(dfs, axis=1)\n",
    "    ## Choossing to fill NaNs by (-1)\n",
    "    dataset_df = dataset_df.fillna(-1)\n",
    "    dataset_df = dataset_df.reset_index()\n",
    "    dataset_df = dataset_df.set_index('session_id')\n",
    "    \n",
    "    return dataset_df"
   ]
  },
  {
   "cell_type": "code",
   "execution_count": 13,
   "id": "10cd4552",
   "metadata": {
    "execution": {
     "iopub.execute_input": "2023-04-29T09:31:01.981117Z",
     "iopub.status.busy": "2023-04-29T09:31:01.980306Z",
     "iopub.status.idle": "2023-04-29T09:31:48.739446Z",
     "shell.execute_reply": "2023-04-29T09:31:48.737714Z"
    },
    "id": "JKcoPoemn2PA",
    "papermill": {
     "duration": 46.80393,
     "end_time": "2023-04-29T09:31:48.765106",
     "exception": false,
     "start_time": "2023-04-29T09:31:01.961176",
     "status": "completed"
    },
    "tags": []
   },
   "outputs": [
    {
     "name": "stdout",
     "output_type": "stream",
     "text": [
      "The shape of processed Training Dataset is: (70686, 22)\n"
     ]
    }
   ],
   "source": [
    "## Call the function\n",
    "df_train_new = feature_engineering(dataset=df_train)\n",
    "print('The shape of processed Training Dataset is:', df_train_new.shape)"
   ]
  },
  {
   "cell_type": "code",
   "execution_count": 14,
   "id": "824adf34",
   "metadata": {
    "execution": {
     "iopub.execute_input": "2023-04-29T09:31:48.804521Z",
     "iopub.status.busy": "2023-04-29T09:31:48.803498Z",
     "iopub.status.idle": "2023-04-29T09:31:48.833783Z",
     "shell.execute_reply": "2023-04-29T09:31:48.832582Z"
    },
    "papermill": {
     "duration": 0.054553,
     "end_time": "2023-04-29T09:31:48.836776",
     "exception": false,
     "start_time": "2023-04-29T09:31:48.782223",
     "status": "completed"
    },
    "tags": []
   },
   "outputs": [
    {
     "data": {
      "text/html": [
       "<div>\n",
       "<style scoped>\n",
       "    .dataframe tbody tr th:only-of-type {\n",
       "        vertical-align: middle;\n",
       "    }\n",
       "\n",
       "    .dataframe tbody tr th {\n",
       "        vertical-align: top;\n",
       "    }\n",
       "\n",
       "    .dataframe thead th {\n",
       "        text-align: right;\n",
       "    }\n",
       "</style>\n",
       "<table border=\"1\" class=\"dataframe\">\n",
       "  <thead>\n",
       "    <tr style=\"text-align: right;\">\n",
       "      <th></th>\n",
       "      <th>level_group</th>\n",
       "      <th>event_name_nunique</th>\n",
       "      <th>name_nunique</th>\n",
       "      <th>fqid_nunique</th>\n",
       "      <th>room_fqid_nunique</th>\n",
       "      <th>text_fqid_nunique</th>\n",
       "      <th>elapsed_time</th>\n",
       "      <th>level</th>\n",
       "      <th>page</th>\n",
       "      <th>room_coor_x</th>\n",
       "      <th>...</th>\n",
       "      <th>screen_coor_y</th>\n",
       "      <th>hover_duration</th>\n",
       "      <th>elapsed_time_std</th>\n",
       "      <th>level_std</th>\n",
       "      <th>page_std</th>\n",
       "      <th>room_coor_x_std</th>\n",
       "      <th>room_coor_y_std</th>\n",
       "      <th>screen_coor_x_std</th>\n",
       "      <th>screen_coor_y_std</th>\n",
       "      <th>hover_duration_std</th>\n",
       "    </tr>\n",
       "    <tr>\n",
       "      <th>session_id</th>\n",
       "      <th></th>\n",
       "      <th></th>\n",
       "      <th></th>\n",
       "      <th></th>\n",
       "      <th></th>\n",
       "      <th></th>\n",
       "      <th></th>\n",
       "      <th></th>\n",
       "      <th></th>\n",
       "      <th></th>\n",
       "      <th></th>\n",
       "      <th></th>\n",
       "      <th></th>\n",
       "      <th></th>\n",
       "      <th></th>\n",
       "      <th></th>\n",
       "      <th></th>\n",
       "      <th></th>\n",
       "      <th></th>\n",
       "      <th></th>\n",
       "      <th></th>\n",
       "    </tr>\n",
       "  </thead>\n",
       "  <tbody>\n",
       "    <tr>\n",
       "      <th>20090312431273200</th>\n",
       "      <td>0-4</td>\n",
       "      <td>10</td>\n",
       "      <td>3</td>\n",
       "      <td>30</td>\n",
       "      <td>7</td>\n",
       "      <td>17</td>\n",
       "      <td>8.579356e+04</td>\n",
       "      <td>1.945455</td>\n",
       "      <td>-1.0</td>\n",
       "      <td>7.701275</td>\n",
       "      <td>...</td>\n",
       "      <td>383.044861</td>\n",
       "      <td>2389.500000</td>\n",
       "      <td>49246.539458</td>\n",
       "      <td>1.230975</td>\n",
       "      <td>-1.000000</td>\n",
       "      <td>399.296038</td>\n",
       "      <td>129.292411</td>\n",
       "      <td>214.871000</td>\n",
       "      <td>104.082743</td>\n",
       "      <td>3227.370757</td>\n",
       "    </tr>\n",
       "    <tr>\n",
       "      <th>20090312431273200</th>\n",
       "      <td>13-22</td>\n",
       "      <td>10</td>\n",
       "      <td>3</td>\n",
       "      <td>49</td>\n",
       "      <td>12</td>\n",
       "      <td>35</td>\n",
       "      <td>1.040601e+06</td>\n",
       "      <td>17.402381</td>\n",
       "      <td>-1.0</td>\n",
       "      <td>-130.347168</td>\n",
       "      <td>...</td>\n",
       "      <td>379.301025</td>\n",
       "      <td>899.925903</td>\n",
       "      <td>126666.129584</td>\n",
       "      <td>2.358652</td>\n",
       "      <td>-1.000000</td>\n",
       "      <td>622.061374</td>\n",
       "      <td>230.370874</td>\n",
       "      <td>240.280218</td>\n",
       "      <td>99.067861</td>\n",
       "      <td>1305.088265</td>\n",
       "    </tr>\n",
       "    <tr>\n",
       "      <th>20090312431273200</th>\n",
       "      <td>5-12</td>\n",
       "      <td>10</td>\n",
       "      <td>3</td>\n",
       "      <td>39</td>\n",
       "      <td>11</td>\n",
       "      <td>24</td>\n",
       "      <td>3.572052e+05</td>\n",
       "      <td>8.054054</td>\n",
       "      <td>-1.0</td>\n",
       "      <td>14.306062</td>\n",
       "      <td>...</td>\n",
       "      <td>378.784912</td>\n",
       "      <td>969.333313</td>\n",
       "      <td>80175.676658</td>\n",
       "      <td>2.096919</td>\n",
       "      <td>-1.000000</td>\n",
       "      <td>357.227701</td>\n",
       "      <td>137.409476</td>\n",
       "      <td>203.268560</td>\n",
       "      <td>120.255453</td>\n",
       "      <td>1316.408315</td>\n",
       "    </tr>\n",
       "    <tr>\n",
       "      <th>20090312433251036</th>\n",
       "      <td>0-4</td>\n",
       "      <td>11</td>\n",
       "      <td>4</td>\n",
       "      <td>22</td>\n",
       "      <td>6</td>\n",
       "      <td>11</td>\n",
       "      <td>9.763342e+04</td>\n",
       "      <td>1.870504</td>\n",
       "      <td>0.0</td>\n",
       "      <td>-84.045959</td>\n",
       "      <td>...</td>\n",
       "      <td>370.723083</td>\n",
       "      <td>1378.750000</td>\n",
       "      <td>67372.714092</td>\n",
       "      <td>1.232616</td>\n",
       "      <td>0.000000</td>\n",
       "      <td>445.980041</td>\n",
       "      <td>156.186242</td>\n",
       "      <td>252.554707</td>\n",
       "      <td>121.062929</td>\n",
       "      <td>2114.876406</td>\n",
       "    </tr>\n",
       "    <tr>\n",
       "      <th>20090312433251036</th>\n",
       "      <td>13-22</td>\n",
       "      <td>11</td>\n",
       "      <td>6</td>\n",
       "      <td>73</td>\n",
       "      <td>16</td>\n",
       "      <td>43</td>\n",
       "      <td>2.498852e+06</td>\n",
       "      <td>17.762529</td>\n",
       "      <td>5.1</td>\n",
       "      <td>-30.762283</td>\n",
       "      <td>...</td>\n",
       "      <td>387.930084</td>\n",
       "      <td>720.384949</td>\n",
       "      <td>777382.529186</td>\n",
       "      <td>1.825923</td>\n",
       "      <td>0.863075</td>\n",
       "      <td>529.575656</td>\n",
       "      <td>234.279590</td>\n",
       "      <td>259.288856</td>\n",
       "      <td>133.345693</td>\n",
       "      <td>1990.705518</td>\n",
       "    </tr>\n",
       "  </tbody>\n",
       "</table>\n",
       "<p>5 rows × 22 columns</p>\n",
       "</div>"
      ],
      "text/plain": [
       "                  level_group  event_name_nunique  name_nunique  fqid_nunique  \\\n",
       "session_id                                                                      \n",
       "20090312431273200         0-4                  10             3            30   \n",
       "20090312431273200       13-22                  10             3            49   \n",
       "20090312431273200        5-12                  10             3            39   \n",
       "20090312433251036         0-4                  11             4            22   \n",
       "20090312433251036       13-22                  11             6            73   \n",
       "\n",
       "                   room_fqid_nunique  text_fqid_nunique  elapsed_time  \\\n",
       "session_id                                                              \n",
       "20090312431273200                  7                 17  8.579356e+04   \n",
       "20090312431273200                 12                 35  1.040601e+06   \n",
       "20090312431273200                 11                 24  3.572052e+05   \n",
       "20090312433251036                  6                 11  9.763342e+04   \n",
       "20090312433251036                 16                 43  2.498852e+06   \n",
       "\n",
       "                       level  page  room_coor_x  ...  screen_coor_y  \\\n",
       "session_id                                       ...                  \n",
       "20090312431273200   1.945455  -1.0     7.701275  ...     383.044861   \n",
       "20090312431273200  17.402381  -1.0  -130.347168  ...     379.301025   \n",
       "20090312431273200   8.054054  -1.0    14.306062  ...     378.784912   \n",
       "20090312433251036   1.870504   0.0   -84.045959  ...     370.723083   \n",
       "20090312433251036  17.762529   5.1   -30.762283  ...     387.930084   \n",
       "\n",
       "                   hover_duration  elapsed_time_std  level_std  page_std  \\\n",
       "session_id                                                                 \n",
       "20090312431273200     2389.500000      49246.539458   1.230975 -1.000000   \n",
       "20090312431273200      899.925903     126666.129584   2.358652 -1.000000   \n",
       "20090312431273200      969.333313      80175.676658   2.096919 -1.000000   \n",
       "20090312433251036     1378.750000      67372.714092   1.232616  0.000000   \n",
       "20090312433251036      720.384949     777382.529186   1.825923  0.863075   \n",
       "\n",
       "                   room_coor_x_std  room_coor_y_std  screen_coor_x_std  \\\n",
       "session_id                                                               \n",
       "20090312431273200       399.296038       129.292411         214.871000   \n",
       "20090312431273200       622.061374       230.370874         240.280218   \n",
       "20090312431273200       357.227701       137.409476         203.268560   \n",
       "20090312433251036       445.980041       156.186242         252.554707   \n",
       "20090312433251036       529.575656       234.279590         259.288856   \n",
       "\n",
       "                   screen_coor_y_std  hover_duration_std  \n",
       "session_id                                                \n",
       "20090312431273200         104.082743         3227.370757  \n",
       "20090312431273200          99.067861         1305.088265  \n",
       "20090312431273200         120.255453         1316.408315  \n",
       "20090312433251036         121.062929         2114.876406  \n",
       "20090312433251036         133.345693         1990.705518  \n",
       "\n",
       "[5 rows x 22 columns]"
      ]
     },
     "execution_count": 14,
     "metadata": {},
     "output_type": "execute_result"
    }
   ],
   "source": [
    "## Check the head of it\n",
    "df_train_new.head()"
   ]
  },
  {
   "cell_type": "markdown",
   "id": "71af9d88",
   "metadata": {
    "id": "891j7nc1n2PA",
    "papermill": {
     "duration": 0.017696,
     "end_time": "2023-04-29T09:31:48.873061",
     "exception": false,
     "start_time": "2023-04-29T09:31:48.855365",
     "status": "completed"
    },
    "tags": []
   },
   "source": [
    "#### `Comment: Our feature engineered dataset is composed of 22 columns and 70686 entries. `"
   ]
  },
  {
   "cell_type": "code",
   "execution_count": 15,
   "id": "6978fb2a",
   "metadata": {
    "execution": {
     "iopub.execute_input": "2023-04-29T09:31:48.911186Z",
     "iopub.status.busy": "2023-04-29T09:31:48.910049Z",
     "iopub.status.idle": "2023-04-29T09:31:49.062159Z",
     "shell.execute_reply": "2023-04-29T09:31:49.061049Z"
    },
    "papermill": {
     "duration": 0.17399,
     "end_time": "2023-04-29T09:31:49.064795",
     "exception": false,
     "start_time": "2023-04-29T09:31:48.890805",
     "status": "completed"
    },
    "tags": []
   },
   "outputs": [
    {
     "data": {
      "text/html": [
       "<div>\n",
       "<style scoped>\n",
       "    .dataframe tbody tr th:only-of-type {\n",
       "        vertical-align: middle;\n",
       "    }\n",
       "\n",
       "    .dataframe tbody tr th {\n",
       "        vertical-align: top;\n",
       "    }\n",
       "\n",
       "    .dataframe thead th {\n",
       "        text-align: right;\n",
       "    }\n",
       "</style>\n",
       "<table border=\"1\" class=\"dataframe\">\n",
       "  <thead>\n",
       "    <tr style=\"text-align: right;\">\n",
       "      <th></th>\n",
       "      <th>event_name_nunique</th>\n",
       "      <th>name_nunique</th>\n",
       "      <th>fqid_nunique</th>\n",
       "      <th>room_fqid_nunique</th>\n",
       "      <th>text_fqid_nunique</th>\n",
       "      <th>elapsed_time</th>\n",
       "      <th>level</th>\n",
       "      <th>page</th>\n",
       "      <th>room_coor_x</th>\n",
       "      <th>room_coor_y</th>\n",
       "      <th>...</th>\n",
       "      <th>screen_coor_y</th>\n",
       "      <th>hover_duration</th>\n",
       "      <th>elapsed_time_std</th>\n",
       "      <th>level_std</th>\n",
       "      <th>page_std</th>\n",
       "      <th>room_coor_x_std</th>\n",
       "      <th>room_coor_y_std</th>\n",
       "      <th>screen_coor_x_std</th>\n",
       "      <th>screen_coor_y_std</th>\n",
       "      <th>hover_duration_std</th>\n",
       "    </tr>\n",
       "  </thead>\n",
       "  <tbody>\n",
       "    <tr>\n",
       "      <th>count</th>\n",
       "      <td>70686.000000</td>\n",
       "      <td>70686.000000</td>\n",
       "      <td>70686.000000</td>\n",
       "      <td>70686.000000</td>\n",
       "      <td>70686.000000</td>\n",
       "      <td>7.068600e+04</td>\n",
       "      <td>70686.000000</td>\n",
       "      <td>70686.000000</td>\n",
       "      <td>70686.000000</td>\n",
       "      <td>70686.000000</td>\n",
       "      <td>...</td>\n",
       "      <td>70686.000000</td>\n",
       "      <td>7.068600e+04</td>\n",
       "      <td>7.068600e+04</td>\n",
       "      <td>70686.000000</td>\n",
       "      <td>70686.000000</td>\n",
       "      <td>70686.000000</td>\n",
       "      <td>70686.000000</td>\n",
       "      <td>70686.000000</td>\n",
       "      <td>70686.000000</td>\n",
       "      <td>7.068600e+04</td>\n",
       "    </tr>\n",
       "    <tr>\n",
       "      <th>mean</th>\n",
       "      <td>10.390021</td>\n",
       "      <td>3.885324</td>\n",
       "      <td>40.468650</td>\n",
       "      <td>10.268908</td>\n",
       "      <td>23.838412</td>\n",
       "      <td>2.811806e+06</td>\n",
       "      <td>9.311221</td>\n",
       "      <td>1.439995</td>\n",
       "      <td>-33.454849</td>\n",
       "      <td>-92.222832</td>\n",
       "      <td>...</td>\n",
       "      <td>379.749146</td>\n",
       "      <td>4.119625e+03</td>\n",
       "      <td>9.322398e+05</td>\n",
       "      <td>1.916549</td>\n",
       "      <td>0.038805</td>\n",
       "      <td>468.689088</td>\n",
       "      <td>183.186301</td>\n",
       "      <td>240.795420</td>\n",
       "      <td>124.016602</td>\n",
       "      <td>1.322598e+04</td>\n",
       "    </tr>\n",
       "    <tr>\n",
       "      <th>std</th>\n",
       "      <td>0.832923</td>\n",
       "      <td>0.799293</td>\n",
       "      <td>13.020929</td>\n",
       "      <td>2.928351</td>\n",
       "      <td>8.989095</td>\n",
       "      <td>2.289877e+07</td>\n",
       "      <td>6.523788</td>\n",
       "      <td>2.350494</td>\n",
       "      <td>80.784378</td>\n",
       "      <td>69.349052</td>\n",
       "      <td>...</td>\n",
       "      <td>36.971046</td>\n",
       "      <td>1.394260e+05</td>\n",
       "      <td>1.206491e+07</td>\n",
       "      <td>0.492239</td>\n",
       "      <td>0.785170</td>\n",
       "      <td>106.991644</td>\n",
       "      <td>48.884988</td>\n",
       "      <td>28.709135</td>\n",
       "      <td>15.844603</td>\n",
       "      <td>4.868272e+05</td>\n",
       "    </tr>\n",
       "    <tr>\n",
       "      <th>min</th>\n",
       "      <td>7.000000</td>\n",
       "      <td>3.000000</td>\n",
       "      <td>18.000000</td>\n",
       "      <td>5.000000</td>\n",
       "      <td>8.000000</td>\n",
       "      <td>4.591262e+02</td>\n",
       "      <td>0.923372</td>\n",
       "      <td>-1.000000</td>\n",
       "      <td>-461.440735</td>\n",
       "      <td>-409.231293</td>\n",
       "      <td>...</td>\n",
       "      <td>177.051849</td>\n",
       "      <td>-1.000000e+00</td>\n",
       "      <td>2.337003e+02</td>\n",
       "      <td>0.684670</td>\n",
       "      <td>-1.000000</td>\n",
       "      <td>261.425412</td>\n",
       "      <td>90.098533</td>\n",
       "      <td>109.415466</td>\n",
       "      <td>68.257406</td>\n",
       "      <td>-1.000000e+00</td>\n",
       "    </tr>\n",
       "    <tr>\n",
       "      <th>25%</th>\n",
       "      <td>10.000000</td>\n",
       "      <td>3.000000</td>\n",
       "      <td>25.000000</td>\n",
       "      <td>7.000000</td>\n",
       "      <td>15.000000</td>\n",
       "      <td>1.642777e+05</td>\n",
       "      <td>2.051613</td>\n",
       "      <td>-1.000000</td>\n",
       "      <td>-90.615677</td>\n",
       "      <td>-151.717484</td>\n",
       "      <td>...</td>\n",
       "      <td>358.117455</td>\n",
       "      <td>9.709706e+02</td>\n",
       "      <td>8.240024e+04</td>\n",
       "      <td>1.295298</td>\n",
       "      <td>-1.000000</td>\n",
       "      <td>381.066225</td>\n",
       "      <td>143.588600</td>\n",
       "      <td>222.569734</td>\n",
       "      <td>113.994303</td>\n",
       "      <td>1.368802e+03</td>\n",
       "    </tr>\n",
       "    <tr>\n",
       "      <th>50%</th>\n",
       "      <td>11.000000</td>\n",
       "      <td>4.000000</td>\n",
       "      <td>43.000000</td>\n",
       "      <td>11.000000</td>\n",
       "      <td>23.000000</td>\n",
       "      <td>5.882137e+05</td>\n",
       "      <td>8.140526</td>\n",
       "      <td>1.000000</td>\n",
       "      <td>-20.255626</td>\n",
       "      <td>-71.538727</td>\n",
       "      <td>...</td>\n",
       "      <td>377.843857</td>\n",
       "      <td>1.427761e+03</td>\n",
       "      <td>1.440869e+05</td>\n",
       "      <td>2.099711</td>\n",
       "      <td>0.000000</td>\n",
       "      <td>431.901352</td>\n",
       "      <td>162.941973</td>\n",
       "      <td>238.383832</td>\n",
       "      <td>122.388964</td>\n",
       "      <td>2.041432e+03</td>\n",
       "    </tr>\n",
       "    <tr>\n",
       "      <th>75%</th>\n",
       "      <td>11.000000</td>\n",
       "      <td>4.000000</td>\n",
       "      <td>51.000000</td>\n",
       "      <td>12.000000</td>\n",
       "      <td>32.000000</td>\n",
       "      <td>1.351434e+06</td>\n",
       "      <td>17.592593</td>\n",
       "      <td>4.000000</td>\n",
       "      <td>23.220109</td>\n",
       "      <td>-38.693486</td>\n",
       "      <td>...</td>\n",
       "      <td>397.018394</td>\n",
       "      <td>2.158794e+03</td>\n",
       "      <td>2.240529e+05</td>\n",
       "      <td>2.316163</td>\n",
       "      <td>0.735893</td>\n",
       "      <td>585.347609</td>\n",
       "      <td>233.385259</td>\n",
       "      <td>255.083349</td>\n",
       "      <td>132.067430</td>\n",
       "      <td>3.105588e+03</td>\n",
       "    </tr>\n",
       "    <tr>\n",
       "      <th>max</th>\n",
       "      <td>11.000000</td>\n",
       "      <td>6.000000</td>\n",
       "      <td>81.000000</td>\n",
       "      <td>17.000000</td>\n",
       "      <td>48.000000</td>\n",
       "      <td>1.191886e+09</td>\n",
       "      <td>20.222101</td>\n",
       "      <td>6.000000</td>\n",
       "      <td>328.096100</td>\n",
       "      <td>160.347992</td>\n",
       "      <td>...</td>\n",
       "      <td>986.192993</td>\n",
       "      <td>2.772298e+07</td>\n",
       "      <td>9.946229e+08</td>\n",
       "      <td>3.580235</td>\n",
       "      <td>2.715695</td>\n",
       "      <td>817.257133</td>\n",
       "      <td>349.049304</td>\n",
       "      <td>612.958607</td>\n",
       "      <td>331.833790</td>\n",
       "      <td>7.837739e+07</td>\n",
       "    </tr>\n",
       "  </tbody>\n",
       "</table>\n",
       "<p>8 rows × 21 columns</p>\n",
       "</div>"
      ],
      "text/plain": [
       "       event_name_nunique  name_nunique  fqid_nunique  room_fqid_nunique  \\\n",
       "count        70686.000000  70686.000000  70686.000000       70686.000000   \n",
       "mean            10.390021      3.885324     40.468650          10.268908   \n",
       "std              0.832923      0.799293     13.020929           2.928351   \n",
       "min              7.000000      3.000000     18.000000           5.000000   \n",
       "25%             10.000000      3.000000     25.000000           7.000000   \n",
       "50%             11.000000      4.000000     43.000000          11.000000   \n",
       "75%             11.000000      4.000000     51.000000          12.000000   \n",
       "max             11.000000      6.000000     81.000000          17.000000   \n",
       "\n",
       "       text_fqid_nunique  elapsed_time         level          page  \\\n",
       "count       70686.000000  7.068600e+04  70686.000000  70686.000000   \n",
       "mean           23.838412  2.811806e+06      9.311221      1.439995   \n",
       "std             8.989095  2.289877e+07      6.523788      2.350494   \n",
       "min             8.000000  4.591262e+02      0.923372     -1.000000   \n",
       "25%            15.000000  1.642777e+05      2.051613     -1.000000   \n",
       "50%            23.000000  5.882137e+05      8.140526      1.000000   \n",
       "75%            32.000000  1.351434e+06     17.592593      4.000000   \n",
       "max            48.000000  1.191886e+09     20.222101      6.000000   \n",
       "\n",
       "        room_coor_x   room_coor_y  ...  screen_coor_y  hover_duration  \\\n",
       "count  70686.000000  70686.000000  ...   70686.000000    7.068600e+04   \n",
       "mean     -33.454849    -92.222832  ...     379.749146    4.119625e+03   \n",
       "std       80.784378     69.349052  ...      36.971046    1.394260e+05   \n",
       "min     -461.440735   -409.231293  ...     177.051849   -1.000000e+00   \n",
       "25%      -90.615677   -151.717484  ...     358.117455    9.709706e+02   \n",
       "50%      -20.255626    -71.538727  ...     377.843857    1.427761e+03   \n",
       "75%       23.220109    -38.693486  ...     397.018394    2.158794e+03   \n",
       "max      328.096100    160.347992  ...     986.192993    2.772298e+07   \n",
       "\n",
       "       elapsed_time_std     level_std      page_std  room_coor_x_std  \\\n",
       "count      7.068600e+04  70686.000000  70686.000000     70686.000000   \n",
       "mean       9.322398e+05      1.916549      0.038805       468.689088   \n",
       "std        1.206491e+07      0.492239      0.785170       106.991644   \n",
       "min        2.337003e+02      0.684670     -1.000000       261.425412   \n",
       "25%        8.240024e+04      1.295298     -1.000000       381.066225   \n",
       "50%        1.440869e+05      2.099711      0.000000       431.901352   \n",
       "75%        2.240529e+05      2.316163      0.735893       585.347609   \n",
       "max        9.946229e+08      3.580235      2.715695       817.257133   \n",
       "\n",
       "       room_coor_y_std  screen_coor_x_std  screen_coor_y_std  \\\n",
       "count     70686.000000       70686.000000       70686.000000   \n",
       "mean        183.186301         240.795420         124.016602   \n",
       "std          48.884988          28.709135          15.844603   \n",
       "min          90.098533         109.415466          68.257406   \n",
       "25%         143.588600         222.569734         113.994303   \n",
       "50%         162.941973         238.383832         122.388964   \n",
       "75%         233.385259         255.083349         132.067430   \n",
       "max         349.049304         612.958607         331.833790   \n",
       "\n",
       "       hover_duration_std  \n",
       "count        7.068600e+04  \n",
       "mean         1.322598e+04  \n",
       "std          4.868272e+05  \n",
       "min         -1.000000e+00  \n",
       "25%          1.368802e+03  \n",
       "50%          2.041432e+03  \n",
       "75%          3.105588e+03  \n",
       "max          7.837739e+07  \n",
       "\n",
       "[8 rows x 21 columns]"
      ]
     },
     "execution_count": 15,
     "metadata": {},
     "output_type": "execute_result"
    }
   ],
   "source": [
    "## Describe the New Dataset\n",
    "df_train_new.describe()"
   ]
  },
  {
   "cell_type": "markdown",
   "id": "ebb54bb6",
   "metadata": {
    "id": "xboIq9oDn2PB",
    "papermill": {
     "duration": 0.017648,
     "end_time": "2023-04-29T09:31:49.100641",
     "exception": false,
     "start_time": "2023-04-29T09:31:49.082993",
     "status": "completed"
    },
    "tags": []
   },
   "source": [
    "### `Check TimeSeries Distribution`\n",
    "> It is a TimeSeries Distribution"
   ]
  },
  {
   "cell_type": "code",
   "execution_count": 16,
   "id": "924351ec",
   "metadata": {
    "execution": {
     "iopub.execute_input": "2023-04-29T09:31:49.140410Z",
     "iopub.status.busy": "2023-04-29T09:31:49.139542Z",
     "iopub.status.idle": "2023-04-29T09:31:53.460677Z",
     "shell.execute_reply": "2023-04-29T09:31:53.459468Z"
    },
    "papermill": {
     "duration": 4.345338,
     "end_time": "2023-04-29T09:31:53.463831",
     "exception": false,
     "start_time": "2023-04-29T09:31:49.118493",
     "status": "completed"
    },
    "tags": []
   },
   "outputs": [
    {
     "data": {
      "image/png": "[encoded data removed]",
      "text/plain": [
       "<Figure size 2000x1000 with 4 Axes>"
      ]
     },
     "metadata": {},
     "output_type": "display_data"
    }
   ],
   "source": [
    "## TimeSeries Distributino for some Numerical Featuers after grouping (level_group)\n",
    "fig, ax = plt.subplots(2, 2, figsize=(20, 10))\n",
    "\n",
    "for col, vals in df_train_new.groupby('level_group'):\n",
    "    ax[0, 0].plot(range(1, len(vals['room_coor_x_std'])+1), vals['room_coor_x_std'], label=col)\n",
    "    ax[0, 0].set_title('room_coor_x')\n",
    "    ax[0, 0].legend()\n",
    "    ax[0, 1].plot(range(1, len(vals['room_coor_y_std'])+1), vals['room_coor_y_std'], label=col)\n",
    "    ax[0, 1].set_title('room_coor_y_std')\n",
    "    ax[0, 1].legend()\n",
    "    ax[1, 0].plot(range(1, len(vals['screen_coor_x_std'])+1), vals['screen_coor_x_std'], label=col)\n",
    "    ax[1, 0].set_title('screen_coor_x_std')\n",
    "    ax[1, 0].legend()\n",
    "    ax[1, 1].plot(range(1, len(vals['screen_coor_y_std'])+1), vals['screen_coor_y_std'], label=col)\n",
    "    ax[1, 1].set_title('screen_coor_y_std')\n",
    "    ax[1, 1].legend()"
   ]
  },
  {
   "cell_type": "markdown",
   "id": "531e867d",
   "metadata": {
    "papermill": {
     "duration": 0.021372,
     "end_time": "2023-04-29T09:31:53.507328",
     "exception": false,
     "start_time": "2023-04-29T09:31:53.485956",
     "status": "completed"
    },
    "tags": []
   },
   "source": [
    "### `Split the Dataset`"
   ]
  },
  {
   "cell_type": "code",
   "execution_count": 17,
   "id": "09d1cc18",
   "metadata": {
    "execution": {
     "iopub.execute_input": "2023-04-29T09:31:53.553478Z",
     "iopub.status.busy": "2023-04-29T09:31:53.552615Z",
     "iopub.status.idle": "2023-04-29T09:31:53.564181Z",
     "shell.execute_reply": "2023-04-29T09:31:53.562887Z"
    },
    "papermill": {
     "duration": 0.037644,
     "end_time": "2023-04-29T09:31:53.567258",
     "exception": false,
     "start_time": "2023-04-29T09:31:53.529614",
     "status": "completed"
    },
    "tags": []
   },
   "outputs": [
    {
     "name": "stdout",
     "output_type": "stream",
     "text": [
      "Unique Session_id in the Dataset \t \n",
      " Int64Index([20090312431273200, 20090312433251036, 20090312455206810,\n",
      "            20090313091715820, 20090313571836404, 20090314035813970,\n",
      "            20090314121766812, 20090314221187252, 20090314363702160,\n",
      "            20090314441803444,\n",
      "            ...\n",
      "            22100213081672770, 22100213133089136, 22100215032067016,\n",
      "            22100215190998610, 22100215241104530, 22100215342220508,\n",
      "            22100215460321130, 22100217104993650, 22100219442786200,\n",
      "            22100221145014656],\n",
      "           dtype='int64', name='session_id', length=23562)\n"
     ]
    }
   ],
   "source": [
    "## Unique values for session_id\n",
    "unique_users = df_train_new.index.unique()\n",
    "print('Unique Session_id in the Dataset \\t \\n', unique_users)"
   ]
  },
  {
   "cell_type": "code",
   "execution_count": 18,
   "id": "a4b37e36",
   "metadata": {
    "execution": {
     "iopub.execute_input": "2023-04-29T09:31:53.614624Z",
     "iopub.status.busy": "2023-04-29T09:31:53.613802Z",
     "iopub.status.idle": "2023-04-29T09:31:53.682541Z",
     "shell.execute_reply": "2023-04-29T09:31:53.681257Z"
    },
    "papermill": {
     "duration": 0.095796,
     "end_time": "2023-04-29T09:31:53.686281",
     "exception": false,
     "start_time": "2023-04-29T09:31:53.590485",
     "status": "completed"
    },
    "tags": []
   },
   "outputs": [
    {
     "name": "stdout",
     "output_type": "stream",
     "text": [
      "The Shape of Full Training Dataset is: (70686, 22)\n",
      "The Shape of Training Dataset is: (56547, 22)\n",
      "The Shape of Validatino Dataset is: (14139, 22)\n"
     ]
    }
   ],
   "source": [
    "## Take the unique values of (session_id: index)\n",
    "\n",
    "## 90% for Training, 10% for Validation\n",
    "unique_users = df_train_new.index.unique()\n",
    "cutoff = int(len(unique_users) * 0.8)\n",
    "\n",
    "## Take first 80% of unique session_id for Train --- Then slice these session_id from the whold dataset (of course there are duplicated session_id)\\\n",
    "X_train = df_train_new.loc[unique_users[:cutoff]]\n",
    "\n",
    "## Take last 20% of unique session_id for Valid --- Then slice these session_id from the whold dataset (of course there are duplicated session_id)\\\n",
    "X_valid = df_train_new.loc[unique_users[cutoff:]]\n",
    "\n",
    "print('The Shape of Full Training Dataset is:', df_train_new.shape)\n",
    "print('The Shape of Training Dataset is:', X_train.shape)\n",
    "print('The Shape of Validatino Dataset is:', X_valid.shape)"
   ]
  },
  {
   "cell_type": "markdown",
   "id": "f11a19ae",
   "metadata": {
    "id": "ZnVfKZfzn2PE",
    "papermill": {
     "duration": 0.021146,
     "end_time": "2023-04-29T09:31:53.729527",
     "exception": false,
     "start_time": "2023-04-29T09:31:53.708381",
     "status": "completed"
    },
    "tags": []
   },
   "source": [
    "### `Model`"
   ]
  },
  {
   "cell_type": "code",
   "execution_count": 19,
   "id": "bae38abb",
   "metadata": {
    "execution": {
     "iopub.execute_input": "2023-04-29T09:31:53.776989Z",
     "iopub.status.busy": "2023-04-29T09:31:53.775905Z",
     "iopub.status.idle": "2023-04-29T09:31:53.785030Z",
     "shell.execute_reply": "2023-04-29T09:31:53.783625Z"
    },
    "id": "KZBdcVU1n2PE",
    "papermill": {
     "duration": 0.036616,
     "end_time": "2023-04-29T09:31:53.787834",
     "exception": false,
     "start_time": "2023-04-29T09:31:53.751218",
     "status": "completed"
    },
    "tags": []
   },
   "outputs": [
    {
     "data": {
      "text/plain": [
       "[tensorflow_decision_forests.keras.RandomForestModel,\n",
       " tensorflow_decision_forests.keras.GradientBoostedTreesModel,\n",
       " tensorflow_decision_forests.keras.CartModel,\n",
       " tensorflow_decision_forests.keras.DistributedGradientBoostedTreesModel]"
      ]
     },
     "execution_count": 19,
     "metadata": {},
     "output_type": "execute_result"
    }
   ],
   "source": [
    "## Using TensorFlow for Decision Forest (light Models)\n",
    "tfdf.keras.get_all_models()"
   ]
  },
  {
   "cell_type": "markdown",
   "id": "f60e38e7",
   "metadata": {
    "id": "UdibIrM-XP5-",
    "papermill": {
     "duration": 0.024443,
     "end_time": "2023-04-29T09:31:53.834779",
     "exception": false,
     "start_time": "2023-04-29T09:31:53.810336",
     "status": "completed"
    },
    "tags": []
   },
   "source": [
    "### `RandomForest Model`"
   ]
  },
  {
   "cell_type": "markdown",
   "id": "f3e4359b",
   "metadata": {
    "id": "BtkKMa7sXd65",
    "papermill": {
     "duration": 0.021653,
     "end_time": "2023-04-29T09:31:53.880675",
     "exception": false,
     "start_time": "2023-04-29T09:31:53.859022",
     "status": "completed"
    },
    "tags": []
   },
   "source": [
    "* `I will train a model for each question to predict if the question will be answered correctly by a user.` \n",
    "* `There are a total of 18 questions in the dataset. Hence, we will be training 18 models, one for each question.`"
   ]
  },
  {
   "cell_type": "code",
   "execution_count": 20,
   "id": "05b6efd0",
   "metadata": {
    "execution": {
     "iopub.execute_input": "2023-04-29T09:31:53.927558Z",
     "iopub.status.busy": "2023-04-29T09:31:53.926664Z",
     "iopub.status.idle": "2023-04-29T09:31:53.957081Z",
     "shell.execute_reply": "2023-04-29T09:31:53.956033Z"
    },
    "papermill": {
     "duration": 0.058009,
     "end_time": "2023-04-29T09:31:53.960400",
     "exception": false,
     "start_time": "2023-04-29T09:31:53.902391",
     "status": "completed"
    },
    "tags": []
   },
   "outputs": [
    {
     "data": {
      "text/html": [
       "<div>\n",
       "<style scoped>\n",
       "    .dataframe tbody tr th:only-of-type {\n",
       "        vertical-align: middle;\n",
       "    }\n",
       "\n",
       "    .dataframe tbody tr th {\n",
       "        vertical-align: top;\n",
       "    }\n",
       "\n",
       "    .dataframe thead th {\n",
       "        text-align: right;\n",
       "    }\n",
       "</style>\n",
       "<table border=\"1\" class=\"dataframe\">\n",
       "  <thead>\n",
       "    <tr style=\"text-align: right;\">\n",
       "      <th></th>\n",
       "      <th>0</th>\n",
       "      <th>1</th>\n",
       "      <th>2</th>\n",
       "      <th>3</th>\n",
       "      <th>4</th>\n",
       "      <th>5</th>\n",
       "      <th>6</th>\n",
       "      <th>7</th>\n",
       "      <th>8</th>\n",
       "      <th>9</th>\n",
       "      <th>10</th>\n",
       "      <th>11</th>\n",
       "      <th>12</th>\n",
       "      <th>13</th>\n",
       "      <th>14</th>\n",
       "      <th>15</th>\n",
       "      <th>16</th>\n",
       "      <th>17</th>\n",
       "    </tr>\n",
       "    <tr>\n",
       "      <th>session_id</th>\n",
       "      <th></th>\n",
       "      <th></th>\n",
       "      <th></th>\n",
       "      <th></th>\n",
       "      <th></th>\n",
       "      <th></th>\n",
       "      <th></th>\n",
       "      <th></th>\n",
       "      <th></th>\n",
       "      <th></th>\n",
       "      <th></th>\n",
       "      <th></th>\n",
       "      <th></th>\n",
       "      <th></th>\n",
       "      <th></th>\n",
       "      <th></th>\n",
       "      <th></th>\n",
       "      <th></th>\n",
       "    </tr>\n",
       "  </thead>\n",
       "  <tbody>\n",
       "    <tr>\n",
       "      <th>22000320020067784</th>\n",
       "      <td>0.0</td>\n",
       "      <td>0.0</td>\n",
       "      <td>0.0</td>\n",
       "      <td>0.0</td>\n",
       "      <td>0.0</td>\n",
       "      <td>0.0</td>\n",
       "      <td>0.0</td>\n",
       "      <td>0.0</td>\n",
       "      <td>0.0</td>\n",
       "      <td>0.0</td>\n",
       "      <td>0.0</td>\n",
       "      <td>0.0</td>\n",
       "      <td>0.0</td>\n",
       "      <td>0.0</td>\n",
       "      <td>0.0</td>\n",
       "      <td>0.0</td>\n",
       "      <td>0.0</td>\n",
       "      <td>0.0</td>\n",
       "    </tr>\n",
       "    <tr>\n",
       "      <th>22000321083750010</th>\n",
       "      <td>0.0</td>\n",
       "      <td>0.0</td>\n",
       "      <td>0.0</td>\n",
       "      <td>0.0</td>\n",
       "      <td>0.0</td>\n",
       "      <td>0.0</td>\n",
       "      <td>0.0</td>\n",
       "      <td>0.0</td>\n",
       "      <td>0.0</td>\n",
       "      <td>0.0</td>\n",
       "      <td>0.0</td>\n",
       "      <td>0.0</td>\n",
       "      <td>0.0</td>\n",
       "      <td>0.0</td>\n",
       "      <td>0.0</td>\n",
       "      <td>0.0</td>\n",
       "      <td>0.0</td>\n",
       "      <td>0.0</td>\n",
       "    </tr>\n",
       "    <tr>\n",
       "      <th>22000401381351532</th>\n",
       "      <td>0.0</td>\n",
       "      <td>0.0</td>\n",
       "      <td>0.0</td>\n",
       "      <td>0.0</td>\n",
       "      <td>0.0</td>\n",
       "      <td>0.0</td>\n",
       "      <td>0.0</td>\n",
       "      <td>0.0</td>\n",
       "      <td>0.0</td>\n",
       "      <td>0.0</td>\n",
       "      <td>0.0</td>\n",
       "      <td>0.0</td>\n",
       "      <td>0.0</td>\n",
       "      <td>0.0</td>\n",
       "      <td>0.0</td>\n",
       "      <td>0.0</td>\n",
       "      <td>0.0</td>\n",
       "      <td>0.0</td>\n",
       "    </tr>\n",
       "    <tr>\n",
       "      <th>22000407142860316</th>\n",
       "      <td>0.0</td>\n",
       "      <td>0.0</td>\n",
       "      <td>0.0</td>\n",
       "      <td>0.0</td>\n",
       "      <td>0.0</td>\n",
       "      <td>0.0</td>\n",
       "      <td>0.0</td>\n",
       "      <td>0.0</td>\n",
       "      <td>0.0</td>\n",
       "      <td>0.0</td>\n",
       "      <td>0.0</td>\n",
       "      <td>0.0</td>\n",
       "      <td>0.0</td>\n",
       "      <td>0.0</td>\n",
       "      <td>0.0</td>\n",
       "      <td>0.0</td>\n",
       "      <td>0.0</td>\n",
       "      <td>0.0</td>\n",
       "    </tr>\n",
       "    <tr>\n",
       "      <th>22000407572357990</th>\n",
       "      <td>0.0</td>\n",
       "      <td>0.0</td>\n",
       "      <td>0.0</td>\n",
       "      <td>0.0</td>\n",
       "      <td>0.0</td>\n",
       "      <td>0.0</td>\n",
       "      <td>0.0</td>\n",
       "      <td>0.0</td>\n",
       "      <td>0.0</td>\n",
       "      <td>0.0</td>\n",
       "      <td>0.0</td>\n",
       "      <td>0.0</td>\n",
       "      <td>0.0</td>\n",
       "      <td>0.0</td>\n",
       "      <td>0.0</td>\n",
       "      <td>0.0</td>\n",
       "      <td>0.0</td>\n",
       "      <td>0.0</td>\n",
       "    </tr>\n",
       "  </tbody>\n",
       "</table>\n",
       "</div>"
      ],
      "text/plain": [
       "                    0    1    2    3    4    5    6    7    8    9    10   11  \\\n",
       "session_id                                                                      \n",
       "22000320020067784  0.0  0.0  0.0  0.0  0.0  0.0  0.0  0.0  0.0  0.0  0.0  0.0   \n",
       "22000321083750010  0.0  0.0  0.0  0.0  0.0  0.0  0.0  0.0  0.0  0.0  0.0  0.0   \n",
       "22000401381351532  0.0  0.0  0.0  0.0  0.0  0.0  0.0  0.0  0.0  0.0  0.0  0.0   \n",
       "22000407142860316  0.0  0.0  0.0  0.0  0.0  0.0  0.0  0.0  0.0  0.0  0.0  0.0   \n",
       "22000407572357990  0.0  0.0  0.0  0.0  0.0  0.0  0.0  0.0  0.0  0.0  0.0  0.0   \n",
       "\n",
       "                    12   13   14   15   16   17  \n",
       "session_id                                       \n",
       "22000320020067784  0.0  0.0  0.0  0.0  0.0  0.0  \n",
       "22000321083750010  0.0  0.0  0.0  0.0  0.0  0.0  \n",
       "22000401381351532  0.0  0.0  0.0  0.0  0.0  0.0  \n",
       "22000407142860316  0.0  0.0  0.0  0.0  0.0  0.0  \n",
       "22000407572357990  0.0  0.0  0.0  0.0  0.0  0.0  "
      ]
     },
     "execution_count": 20,
     "metadata": {},
     "output_type": "execute_result"
    }
   ],
   "source": [
    "## I want to make a prediction DataFrame for each session_id\n",
    "## So, I make an empty dataframe indexed by session_id\n",
    "users_list_valid = X_valid.index.unique()\n",
    "data = np.zeros((len(users_list_valid), 18))\n",
    "df_prediction = pd.DataFrame(data, index=users_list_valid)\n",
    "df_prediction.head()"
   ]
  },
  {
   "cell_type": "markdown",
   "id": "64d1b8e3",
   "metadata": {
    "papermill": {
     "duration": 0.023211,
     "end_time": "2023-04-29T09:31:54.006825",
     "exception": false,
     "start_time": "2023-04-29T09:31:53.983614",
     "status": "completed"
    },
    "tags": []
   },
   "source": [
    "#### `Note: I will create a Model for each question`"
   ]
  },
  {
   "cell_type": "code",
   "execution_count": 21,
   "id": "6f7c0ffd",
   "metadata": {
    "execution": {
     "iopub.execute_input": "2023-04-29T09:31:54.054121Z",
     "iopub.status.busy": "2023-04-29T09:31:54.053288Z",
     "iopub.status.idle": "2023-04-29T09:31:54.058234Z",
     "shell.execute_reply": "2023-04-29T09:31:54.057229Z"
    },
    "papermill": {
     "duration": 0.031974,
     "end_time": "2023-04-29T09:31:54.061004",
     "exception": false,
     "start_time": "2023-04-29T09:31:54.029030",
     "status": "completed"
    },
    "tags": []
   },
   "outputs": [],
   "source": [
    "## Create an empty dictionary to store the models created for each question.\n",
    "models = {}\n",
    "\n",
    "## Create an empty dictionary to store the evaluation score for each question.\n",
    "evaluation_valid ={}"
   ]
  },
  {
   "cell_type": "markdown",
   "id": "8f3986b2",
   "metadata": {
    "id": "p1GoOMRHn2PF",
    "papermill": {
     "duration": 0.02169,
     "end_time": "2023-04-29T09:31:54.106324",
     "exception": false,
     "start_time": "2023-04-29T09:31:54.084634",
     "status": "completed"
    },
    "tags": []
   },
   "source": [
    "Before training the data we have to understand how `level_groups` and `questions` are associated to each other.\n",
    "\n",
    "In this game the first quiz checkpoint(i.e., questions 1 to 3) comes after finishing levels 0 to 4. So for training questions 1 to 3 we will use data from the `level_group` 0-4. Similarly, we will use data from the `level_group` 5-12 to train questions from 4 to 13 and data from the `level_group` 13-22 to train questions from 14 to 18.\n",
    "\n",
    "We will train a model for each question and store the trained model in the `models` dict."
   ]
  },
  {
   "cell_type": "code",
   "execution_count": 22,
   "id": "e0ef227d",
   "metadata": {
    "execution": {
     "iopub.execute_input": "2023-04-29T09:31:54.153554Z",
     "iopub.status.busy": "2023-04-29T09:31:54.152711Z",
     "iopub.status.idle": "2023-04-29T09:31:54.164436Z",
     "shell.execute_reply": "2023-04-29T09:31:54.163341Z"
    },
    "papermill": {
     "duration": 0.038733,
     "end_time": "2023-04-29T09:31:54.166998",
     "exception": false,
     "start_time": "2023-04-29T09:31:54.128265",
     "status": "completed"
    },
    "tags": []
   },
   "outputs": [
    {
     "data": {
      "text/html": [
       "<div>\n",
       "<style scoped>\n",
       "    .dataframe tbody tr th:only-of-type {\n",
       "        vertical-align: middle;\n",
       "    }\n",
       "\n",
       "    .dataframe tbody tr th {\n",
       "        vertical-align: top;\n",
       "    }\n",
       "\n",
       "    .dataframe thead th {\n",
       "        text-align: right;\n",
       "    }\n",
       "</style>\n",
       "<table border=\"1\" class=\"dataframe\">\n",
       "  <thead>\n",
       "    <tr style=\"text-align: right;\">\n",
       "      <th></th>\n",
       "      <th>session_id</th>\n",
       "      <th>correct</th>\n",
       "      <th>session</th>\n",
       "      <th>question</th>\n",
       "    </tr>\n",
       "  </thead>\n",
       "  <tbody>\n",
       "    <tr>\n",
       "      <th>0</th>\n",
       "      <td>20090312431273200_q1</td>\n",
       "      <td>1</td>\n",
       "      <td>20090312431273200</td>\n",
       "      <td>1</td>\n",
       "    </tr>\n",
       "    <tr>\n",
       "      <th>1</th>\n",
       "      <td>20090312433251036_q1</td>\n",
       "      <td>0</td>\n",
       "      <td>20090312433251036</td>\n",
       "      <td>1</td>\n",
       "    </tr>\n",
       "    <tr>\n",
       "      <th>2</th>\n",
       "      <td>20090312455206810_q1</td>\n",
       "      <td>1</td>\n",
       "      <td>20090312455206810</td>\n",
       "      <td>1</td>\n",
       "    </tr>\n",
       "    <tr>\n",
       "      <th>3</th>\n",
       "      <td>20090313091715820_q1</td>\n",
       "      <td>0</td>\n",
       "      <td>20090313091715820</td>\n",
       "      <td>1</td>\n",
       "    </tr>\n",
       "    <tr>\n",
       "      <th>4</th>\n",
       "      <td>20090313571836404_q1</td>\n",
       "      <td>1</td>\n",
       "      <td>20090313571836404</td>\n",
       "      <td>1</td>\n",
       "    </tr>\n",
       "  </tbody>\n",
       "</table>\n",
       "</div>"
      ],
      "text/plain": [
       "             session_id  correct            session  question\n",
       "0  20090312431273200_q1        1  20090312431273200         1\n",
       "1  20090312433251036_q1        0  20090312433251036         1\n",
       "2  20090312455206810_q1        1  20090312455206810         1\n",
       "3  20090313091715820_q1        0  20090313091715820         1\n",
       "4  20090313571836404_q1        1  20090313571836404         1"
      ]
     },
     "execution_count": 22,
     "metadata": {},
     "output_type": "execute_result"
    }
   ],
   "source": [
    "data_labels.head()"
   ]
  },
  {
   "cell_type": "code",
   "execution_count": 23,
   "id": "1c1f5457",
   "metadata": {
    "execution": {
     "iopub.execute_input": "2023-04-29T09:31:54.215149Z",
     "iopub.status.busy": "2023-04-29T09:31:54.214315Z",
     "iopub.status.idle": "2023-04-29T09:39:55.116843Z",
     "shell.execute_reply": "2023-04-29T09:39:55.115588Z"
    },
    "id": "VBO3VCOJn2PF",
    "papermill": {
     "duration": 480.929515,
     "end_time": "2023-04-29T09:39:55.119742",
     "exception": false,
     "start_time": "2023-04-29T09:31:54.190227",
     "status": "completed"
    },
    "tags": []
   },
   "outputs": [
    {
     "name": "stdout",
     "output_type": "stream",
     "text": [
      "Question Number: 1 & Group: 0-4\n"
     ]
    },
    {
     "name": "stderr",
     "output_type": "stream",
     "text": [
      "/opt/conda/lib/python3.7/site-packages/ipykernel_launcher.py:26: SettingWithCopyWarning: \n",
      "A value is trying to be set on a copy of a slice from a DataFrame.\n",
      "Try using .loc[row_indexer,col_indexer] = value instead\n",
      "\n",
      "See the caveats in the documentation: https://pandas.pydata.org/pandas-docs/stable/user_guide/indexing.html#returning-a-view-versus-a-copy\n",
      "/opt/conda/lib/python3.7/site-packages/ipykernel_launcher.py:27: SettingWithCopyWarning: \n",
      "A value is trying to be set on a copy of a slice from a DataFrame.\n",
      "Try using .loc[row_indexer,col_indexer] = value instead\n",
      "\n",
      "See the caveats in the documentation: https://pandas.pydata.org/pandas-docs/stable/user_guide/indexing.html#returning-a-view-versus-a-copy\n",
      "[INFO 2023-04-29T09:32:19.714786833+00:00 kernel.cc:1214] Loading model from path /tmp/tmpy161h9ys/model/ with prefix 3b55d256b64e454a\n",
      "[INFO 2023-04-29T09:32:22.205131803+00:00 decision_forest.cc:661] Model loaded with 300 root(s), 574200 node(s), and 21 input feature(s).\n",
      "[INFO 2023-04-29T09:32:22.205258798+00:00 abstract_model.cc:1311] Engine \"RandomForestOptPred\" built\n",
      "[INFO 2023-04-29T09:32:22.206365655+00:00 kernel.cc:1046] Use fast generic engine\n"
     ]
    },
    {
     "name": "stdout",
     "output_type": "stream",
     "text": [
      "WARNING: AutoGraph could not transform <function simple_ml_inference_op_with_handle at 0x7396282f1290> and will run it as-is.\n",
      "Please report this to the TensorFlow team. When filing the bug, set the verbosity to 10 (on Linux, `export AUTOGRAPH_VERBOSITY=10`) and attach the full output.\n",
      "Cause: could not get source code\n",
      "To silence this warning, decorate the function with @tf.autograph.experimental.do_not_convert\n",
      "5/5 [==============================] - 1s 66ms/step - loss: 0.0000e+00 - accuracy: 0.7331\n",
      "5/5 [==============================] - 0s 63ms/step\n",
      "Question Number: 2 & Group: 0-4\n"
     ]
    },
    {
     "name": "stderr",
     "output_type": "stream",
     "text": [
      "[INFO 2023-04-29T09:32:38.503251582+00:00 kernel.cc:1214] Loading model from path /tmp/tmp8uocfa3r/model/ with prefix 0bd95b9f999f4ab6\n",
      "[INFO 2023-04-29T09:32:39.161835439+00:00 decision_forest.cc:661] Model loaded with 300 root(s), 163518 node(s), and 21 input feature(s).\n",
      "[INFO 2023-04-29T09:32:39.161901065+00:00 abstract_model.cc:1311] Engine \"RandomForestOptPred\" built\n",
      "[INFO 2023-04-29T09:32:39.161930873+00:00 kernel.cc:1046] Use fast generic engine\n"
     ]
    },
    {
     "name": "stdout",
     "output_type": "stream",
     "text": [
      "5/5 [==============================] - 0s 41ms/step - loss: 0.0000e+00 - accuracy: 0.9756\n",
      "5/5 [==============================] - 0s 39ms/step\n",
      "Question Number: 3 & Group: 0-4\n"
     ]
    },
    {
     "name": "stderr",
     "output_type": "stream",
     "text": [
      "[INFO 2023-04-29T09:33:03.24576516+00:00 kernel.cc:1214] Loading model from path /tmp/tmpgf8ag21w/model/ with prefix b5286959d0a146d5\n",
      "[INFO 2023-04-29T09:33:04.537083935+00:00 decision_forest.cc:661] Model loaded with 300 root(s), 316886 node(s), and 21 input feature(s).\n",
      "[INFO 2023-04-29T09:33:04.537257367+00:00 abstract_model.cc:1311] Engine \"RandomForestOptPred\" built\n",
      "[INFO 2023-04-29T09:33:04.537302822+00:00 kernel.cc:1046] Use fast generic engine\n"
     ]
    },
    {
     "name": "stdout",
     "output_type": "stream",
     "text": [
      "5/5 [==============================] - 0s 49ms/step - loss: 0.0000e+00 - accuracy: 0.9351\n",
      "5/5 [==============================] - 0s 46ms/step\n",
      "Question Number: 4 & Group: 5-12\n"
     ]
    },
    {
     "name": "stderr",
     "output_type": "stream",
     "text": [
      "[INFO 2023-04-29T09:33:23.022564603+00:00 kernel.cc:1214] Loading model from path /tmp/tmps16n0x8i/model/ with prefix 1d562c41760b426b\n",
      "[INFO 2023-04-29T09:33:25.493564795+00:00 decision_forest.cc:661] Model loaded with 300 root(s), 594838 node(s), and 21 input feature(s).\n",
      "[INFO 2023-04-29T09:33:25.493648136+00:00 abstract_model.cc:1311] Engine \"RandomForestOptPred\" built\n",
      "[INFO 2023-04-29T09:33:25.493677434+00:00 kernel.cc:1046] Use fast generic engine\n"
     ]
    },
    {
     "name": "stdout",
     "output_type": "stream",
     "text": [
      "5/5 [==============================] - 0s 58ms/step - loss: 0.0000e+00 - accuracy: 0.7952\n",
      "5/5 [==============================] - 0s 59ms/step\n",
      "Question Number: 5 & Group: 5-12\n"
     ]
    },
    {
     "name": "stderr",
     "output_type": "stream",
     "text": [
      "[INFO 2023-04-29T09:33:44.771474489+00:00 kernel.cc:1214] Loading model from path /tmp/tmprfu3zbyh/model/ with prefix 54885ea3a97c41cb\n",
      "[INFO 2023-04-29T09:33:47.597491553+00:00 decision_forest.cc:661] Model loaded with 300 root(s), 685578 node(s), and 21 input feature(s).\n",
      "[INFO 2023-04-29T09:33:47.597562299+00:00 abstract_model.cc:1311] Engine \"RandomForestOptPred\" built\n",
      "[INFO 2023-04-29T09:33:47.597592563+00:00 kernel.cc:1046] Use fast generic engine\n"
     ]
    },
    {
     "name": "stdout",
     "output_type": "stream",
     "text": [
      "5/5 [==============================] - 1s 64ms/step - loss: 0.0000e+00 - accuracy: 0.6281\n",
      "5/5 [==============================] - 0s 63ms/step\n",
      "Question Number: 6 & Group: 5-12\n"
     ]
    },
    {
     "name": "stderr",
     "output_type": "stream",
     "text": [
      "[INFO 2023-04-29T09:34:26.908587099+00:00 kernel.cc:1214] Loading model from path /tmp/tmpq_huhphi/model/ with prefix 26c860decd1a4fa0\n",
      "[INFO 2023-04-29T09:34:29.367980867+00:00 decision_forest.cc:661] Model loaded with 300 root(s), 598264 node(s), and 21 input feature(s).\n",
      "[INFO 2023-04-29T09:34:29.368077264+00:00 abstract_model.cc:1311] Engine \"RandomForestOptPred\" built\n",
      "[INFO 2023-04-29T09:34:29.368123211+00:00 kernel.cc:1046] Use fast generic engine\n"
     ]
    },
    {
     "name": "stdout",
     "output_type": "stream",
     "text": [
      "5/5 [==============================] - 0s 57ms/step - loss: 0.0000e+00 - accuracy: 0.7882\n",
      "5/5 [==============================] - 0s 55ms/step\n",
      "Question Number: 7 & Group: 5-12\n"
     ]
    },
    {
     "name": "stderr",
     "output_type": "stream",
     "text": [
      "[INFO 2023-04-29T09:34:48.653818093+00:00 kernel.cc:1214] Loading model from path /tmp/tmp765a8v_4/model/ with prefix 42a28988d6264b0d\n",
      "[INFO 2023-04-29T09:34:51.249432547+00:00 decision_forest.cc:661] Model loaded with 300 root(s), 628790 node(s), and 21 input feature(s).\n",
      "[INFO 2023-04-29T09:34:51.249499581+00:00 abstract_model.cc:1311] Engine \"RandomForestOptPred\" built\n",
      "[INFO 2023-04-29T09:34:51.249529787+00:00 kernel.cc:1046] Use fast generic engine\n"
     ]
    },
    {
     "name": "stdout",
     "output_type": "stream",
     "text": [
      "5/5 [==============================] - 0s 57ms/step - loss: 0.0000e+00 - accuracy: 0.7462\n",
      "5/5 [==============================] - 0s 55ms/step\n",
      "Question Number: 8 & Group: 5-12\n"
     ]
    },
    {
     "name": "stderr",
     "output_type": "stream",
     "text": [
      "[INFO 2023-04-29T09:35:10.684022007+00:00 kernel.cc:1214] Loading model from path /tmp/tmpzqvsv1up/model/ with prefix afb360e330cf49fa\n",
      "[INFO 2023-04-29T09:35:12.850269109+00:00 decision_forest.cc:661] Model loaded with 300 root(s), 521344 node(s), and 21 input feature(s).\n",
      "[INFO 2023-04-29T09:35:12.850384921+00:00 abstract_model.cc:1311] Engine \"RandomForestOptPred\" built\n",
      "[INFO 2023-04-29T09:35:12.850414997+00:00 kernel.cc:1046] Use fast generic engine\n"
     ]
    },
    {
     "name": "stdout",
     "output_type": "stream",
     "text": [
      "5/5 [==============================] - 0s 55ms/step - loss: 0.0000e+00 - accuracy: 0.6395\n",
      "5/5 [==============================] - 0s 60ms/step\n",
      "Question Number: 9 & Group: 5-12\n"
     ]
    },
    {
     "name": "stderr",
     "output_type": "stream",
     "text": [
      "[INFO 2023-04-29T09:35:33.208183595+00:00 kernel.cc:1214] Loading model from path /tmp/tmpnb4ywsxh/model/ with prefix e8cdc172a6454550\n",
      "[INFO 2023-04-29T09:35:35.612904577+00:00 decision_forest.cc:661] Model loaded with 300 root(s), 591760 node(s), and 21 input feature(s).\n",
      "[INFO 2023-04-29T09:35:35.613081645+00:00 abstract_model.cc:1311] Engine \"RandomForestOptPred\" built\n",
      "[INFO 2023-04-29T09:35:35.613127499+00:00 kernel.cc:1046] Use fast generic engine\n"
     ]
    },
    {
     "name": "stdout",
     "output_type": "stream",
     "text": [
      "5/5 [==============================] - 0s 57ms/step - loss: 0.0000e+00 - accuracy: 0.7679\n",
      "5/5 [==============================] - 0s 55ms/step\n",
      "Question Number: 10 & Group: 5-12\n"
     ]
    },
    {
     "name": "stderr",
     "output_type": "stream",
     "text": [
      "[INFO 2023-04-29T09:35:55.213524592+00:00 kernel.cc:1214] Loading model from path /tmp/tmpm9wr22l2/model/ with prefix 5e8857619184451e\n",
      "[INFO 2023-04-29T09:35:57.820111119+00:00 decision_forest.cc:661] Model loaded with 300 root(s), 627318 node(s), and 21 input feature(s).\n",
      "[INFO 2023-04-29T09:35:57.820170913+00:00 abstract_model.cc:1311] Engine \"RandomForestOptPred\" built\n",
      "[INFO 2023-04-29T09:35:57.820200722+00:00 kernel.cc:1046] Use fast generic engine\n"
     ]
    },
    {
     "name": "stdout",
     "output_type": "stream",
     "text": [
      "5/5 [==============================] - 0s 56ms/step - loss: 0.0000e+00 - accuracy: 0.5986\n",
      "5/5 [==============================] - 0s 59ms/step\n",
      "Question Number: 11 & Group: 5-12\n"
     ]
    },
    {
     "name": "stderr",
     "output_type": "stream",
     "text": [
      "[INFO 2023-04-29T09:36:17.042896354+00:00 kernel.cc:1214] Loading model from path /tmp/tmp2f7f8ith/model/ with prefix 1b557011bb724e8a\n",
      "[INFO 2023-04-29T09:36:19.289032913+00:00 decision_forest.cc:661] Model loaded with 300 root(s), 549588 node(s), and 21 input feature(s).\n",
      "[INFO 2023-04-29T09:36:19.28924849+00:00 abstract_model.cc:1311] Engine \"RandomForestOptPred\" built\n",
      "[INFO 2023-04-29T09:36:19.289298487+00:00 kernel.cc:1046] Use fast generic engine\n"
     ]
    },
    {
     "name": "stdout",
     "output_type": "stream",
     "text": [
      "5/5 [==============================] - 0s 57ms/step - loss: 0.0000e+00 - accuracy: 0.6582\n",
      "5/5 [==============================] - 0s 63ms/step\n",
      "Question Number: 12 & Group: 5-12\n"
     ]
    },
    {
     "name": "stderr",
     "output_type": "stream",
     "text": [
      "[INFO 2023-04-29T09:36:38.625106291+00:00 kernel.cc:1214] Loading model from path /tmp/tmpgo3mgk07/model/ with prefix e859e737c3624834\n",
      "[INFO 2023-04-29T09:36:40.461881822+00:00 decision_forest.cc:661] Model loaded with 300 root(s), 445510 node(s), and 21 input feature(s).\n",
      "[INFO 2023-04-29T09:36:40.461945294+00:00 abstract_model.cc:1311] Engine \"RandomForestOptPred\" built\n",
      "[INFO 2023-04-29T09:36:40.461978196+00:00 kernel.cc:1046] Use fast generic engine\n"
     ]
    },
    {
     "name": "stdout",
     "output_type": "stream",
     "text": [
      "5/5 [==============================] - 1s 55ms/step - loss: 0.0000e+00 - accuracy: 0.8699\n",
      "5/5 [==============================] - 0s 51ms/step\n",
      "Question Number: 13 & Group: 5-12\n"
     ]
    },
    {
     "name": "stderr",
     "output_type": "stream",
     "text": [
      "[INFO 2023-04-29T09:37:01.995974934+00:00 kernel.cc:1214] Loading model from path /tmp/tmpatb9vjxh/model/ with prefix a8664f33ce894a05\n",
      "[INFO 2023-04-29T09:37:04.273331353+00:00 decision_forest.cc:661] Model loaded with 300 root(s), 559316 node(s), and 21 input feature(s).\n",
      "[INFO 2023-04-29T09:37:04.273393903+00:00 abstract_model.cc:1311] Engine \"RandomForestOptPred\" built\n",
      "[INFO 2023-04-29T09:37:04.273422927+00:00 kernel.cc:1046] Use fast generic engine\n"
     ]
    },
    {
     "name": "stdout",
     "output_type": "stream",
     "text": [
      "5/5 [==============================] - 0s 60ms/step - loss: 0.0000e+00 - accuracy: 0.7197\n",
      "5/5 [==============================] - 0s 60ms/step\n",
      "Question Number: 14 & Group: 13-22\n"
     ]
    },
    {
     "name": "stderr",
     "output_type": "stream",
     "text": [
      "[INFO 2023-04-29T09:37:44.73756564+00:00 kernel.cc:1214] Loading model from path /tmp/tmpbybpv_5n/model/ with prefix ef3c338a81f34c60\n",
      "[INFO 2023-04-29T09:37:47.380640712+00:00 decision_forest.cc:661] Model loaded with 300 root(s), 637996 node(s), and 21 input feature(s).\n",
      "[INFO 2023-04-29T09:37:47.380701894+00:00 abstract_model.cc:1311] Engine \"RandomForestOptPred\" built\n",
      "[INFO 2023-04-29T09:37:47.380732671+00:00 kernel.cc:1046] Use fast generic engine\n"
     ]
    },
    {
     "name": "stdout",
     "output_type": "stream",
     "text": [
      "5/5 [==============================] - 0s 60ms/step - loss: 0.0000e+00 - accuracy: 0.7335\n",
      "5/5 [==============================] - 0s 58ms/step\n",
      "Question Number: 15 & Group: 13-22\n"
     ]
    },
    {
     "name": "stderr",
     "output_type": "stream",
     "text": [
      "[INFO 2023-04-29T09:38:26.173158719+00:00 kernel.cc:1214] Loading model from path /tmp/tmpj3mwmsa6/model/ with prefix b07c220ec039407d\n",
      "[INFO 2023-04-29T09:38:28.992921697+00:00 decision_forest.cc:661] Model loaded with 300 root(s), 680744 node(s), and 21 input feature(s).\n",
      "[INFO 2023-04-29T09:38:28.992989213+00:00 abstract_model.cc:1311] Engine \"RandomForestOptPred\" built\n",
      "[INFO 2023-04-29T09:38:28.993028307+00:00 kernel.cc:1046] Use fast generic engine\n"
     ]
    },
    {
     "name": "stdout",
     "output_type": "stream",
     "text": [
      "5/5 [==============================] - 1s 69ms/step - loss: 0.0000e+00 - accuracy: 0.6109\n",
      "5/5 [==============================] - 0s 70ms/step\n",
      "Question Number: 16 & Group: 13-22\n"
     ]
    },
    {
     "name": "stderr",
     "output_type": "stream",
     "text": [
      "[INFO 2023-04-29T09:39:07.363974858+00:00 kernel.cc:1214] Loading model from path /tmp/tmp6inm64hq/model/ with prefix 6696ea9090fc4667\n",
      "[INFO 2023-04-29T09:39:08.938249129+00:00 decision_forest.cc:661] Model loaded with 300 root(s), 390266 node(s), and 21 input feature(s).\n",
      "[INFO 2023-04-29T09:39:08.938455695+00:00 abstract_model.cc:1311] Engine \"RandomForestOptPred\" built\n",
      "[INFO 2023-04-29T09:39:08.938500393+00:00 kernel.cc:1046] Use fast generic engine\n"
     ]
    },
    {
     "name": "stdout",
     "output_type": "stream",
     "text": [
      "5/5 [==============================] - 0s 49ms/step - loss: 0.0000e+00 - accuracy: 0.7488\n",
      "5/5 [==============================] - 0s 46ms/step\n",
      "Question Number: 17 & Group: 13-22\n"
     ]
    },
    {
     "name": "stderr",
     "output_type": "stream",
     "text": [
      "[INFO 2023-04-29T09:39:29.973624307+00:00 kernel.cc:1214] Loading model from path /tmp/tmp0t_7vg7k/model/ with prefix 4394a1916eec40a1\n",
      "[INFO 2023-04-29T09:39:31.974582024+00:00 decision_forest.cc:661] Model loaded with 300 root(s), 490460 node(s), and 21 input feature(s).\n",
      "[INFO 2023-04-29T09:39:31.974825006+00:00 abstract_model.cc:1311] Engine \"RandomForestOptPred\" built\n",
      "[INFO 2023-04-29T09:39:31.97500869+00:00 kernel.cc:1046] Use fast generic engine\n"
     ]
    },
    {
     "name": "stdout",
     "output_type": "stream",
     "text": [
      "5/5 [==============================] - 0s 52ms/step - loss: 0.0000e+00 - accuracy: 0.7036\n",
      "5/5 [==============================] - 0s 51ms/step\n",
      "Question Number: 18 & Group: 13-22\n"
     ]
    },
    {
     "name": "stderr",
     "output_type": "stream",
     "text": [
      "[INFO 2023-04-29T09:39:47.433289481+00:00 kernel.cc:1214] Loading model from path /tmp/tmpbj21e3gp/model/ with prefix ea2848c209914957\n",
      "[INFO 2023-04-29T09:39:48.590980703+00:00 decision_forest.cc:661] Model loaded with 300 root(s), 287188 node(s), and 21 input feature(s).\n",
      "[INFO 2023-04-29T09:39:48.591066066+00:00 abstract_model.cc:1311] Engine \"RandomForestOptPred\" built\n",
      "[INFO 2023-04-29T09:39:48.591109222+00:00 kernel.cc:1046] Use fast generic engine\n"
     ]
    },
    {
     "name": "stdout",
     "output_type": "stream",
     "text": [
      "5/5 [==============================] - 0s 44ms/step - loss: 0.0000e+00 - accuracy: 0.9516\n",
      "5/5 [==============================] - 0s 42ms/step\n"
     ]
    }
   ],
   "source": [
    "# Iterate through questions 1 to 18 to train models for each question, evaluate\n",
    "# the trained model and store the predicted values.\n",
    "for q_no in range(1,19):\n",
    "\n",
    "    ## Select level group for the question based on the q_no.\n",
    "    if q_no <= 3: \n",
    "        grp = '0-4'\n",
    "    elif q_no <=13 : \n",
    "        grp = '5-12'\n",
    "    elif q_no <= 22: \n",
    "        grp = '13-22'\n",
    "    print(f\"Question Number: {q_no} & Group: {grp}\")\n",
    "    \n",
    "        \n",
    "    # Filter the rows in the datasets based on the selected level group. \n",
    "    train_df = X_train.loc[X_train['level_group'] == grp]\n",
    "    train_users = train_df.index.values\n",
    "    valid_df = X_valid.loc[X_valid['level_group'] == grp]\n",
    "    valid_users = valid_df.index.values\n",
    "\n",
    "    # Select the labels for the related q_no.\n",
    "    train_labels = data_labels.loc[data_labels['question']==q_no].set_index('session').loc[train_users]\n",
    "    valid_labels = data_labels.loc[data_labels['question']==q_no].set_index('session').loc[valid_users]\n",
    "\n",
    "    # Add the label to the filtered datasets.\n",
    "    train_df[\"correct\"] = train_labels[\"correct\"]\n",
    "    valid_df[\"correct\"] = valid_labels[\"correct\"]\n",
    "\n",
    "    ## We need to convert the datatset from Pandas format (pd.DataFrame) to TensorFlow\n",
    "    train_ds = tfdf.keras.pd_dataframe_to_tf_dataset(train_df.loc[:, train_df.columns != 'level_group'], label=\"correct\")\n",
    "    valid_ds = tfdf.keras.pd_dataframe_to_tf_dataset(valid_df.loc[:, valid_df.columns != 'level_group'], label=\"correct\")\n",
    "\n",
    "    ## Create and compile the model\n",
    "    rfm = tfdf.keras.RandomForestModel(verbose=0)\n",
    "    rfm.compile(metrics=[\"accuracy\"])\n",
    "\n",
    "    # Train the model.\n",
    "    rfm.fit(x=train_ds)\n",
    "\n",
    "    # Store the model\n",
    "    models[f'{grp}_{q_no}'] = rfm\n",
    "\n",
    "    ## Evaluate the trained model on the validation dataset\n",
    "    inspector = rfm.make_inspector()\n",
    "    inspector.evaluation()\n",
    "    evaluation = rfm.evaluate(x=valid_ds, return_dict=True)\n",
    "    evaluation_valid[q_no] = evaluation[\"accuracy\"]         \n",
    "\n",
    "    ## store the predicted values in the `df_prediction` dataframe.\n",
    "    predict = rfm.predict(x=valid_ds)\n",
    "    df_prediction.loc[valid_users, q_no-1] = predict.flatten()     "
   ]
  },
  {
   "cell_type": "code",
   "execution_count": 24,
   "id": "2a910f14",
   "metadata": {
    "execution": {
     "iopub.execute_input": "2023-04-29T09:39:55.201617Z",
     "iopub.status.busy": "2023-04-29T09:39:55.200426Z",
     "iopub.status.idle": "2023-04-29T09:39:55.221055Z",
     "shell.execute_reply": "2023-04-29T09:39:55.219767Z"
    },
    "papermill": {
     "duration": 0.067152,
     "end_time": "2023-04-29T09:39:55.223798",
     "exception": false,
     "start_time": "2023-04-29T09:39:55.156646",
     "status": "completed"
    },
    "tags": []
   },
   "outputs": [],
   "source": [
    "## Create and compile the model\n",
    "rfm = tfdf.keras.RandomForestModel(verbose=0)\n",
    "rfm.compile(metrics=[\"accuracy\"])"
   ]
  },
  {
   "cell_type": "markdown",
   "id": "cdb2e320",
   "metadata": {
    "id": "oOdr1p-Bn2PF",
    "papermill": {
     "duration": 0.038314,
     "end_time": "2023-04-29T09:39:55.299864",
     "exception": false,
     "start_time": "2023-04-29T09:39:55.261550",
     "status": "completed"
    },
    "tags": []
   },
   "source": [
    "### `Inspect the Accuracy of the models.`\n",
    "\n",
    "We trained a model for each question. Now let us check the accuracy of each model and overall accuracy for all the models combined. \n",
    "\n",
    "Note: Since the label distribution is imbalanced, we can't make an assumption on the model performance from accuracy score alone. "
   ]
  },
  {
   "cell_type": "code",
   "execution_count": 25,
   "id": "dd494924",
   "metadata": {
    "execution": {
     "iopub.execute_input": "2023-04-29T09:39:55.384456Z",
     "iopub.status.busy": "2023-04-29T09:39:55.383512Z",
     "iopub.status.idle": "2023-04-29T09:39:55.391893Z",
     "shell.execute_reply": "2023-04-29T09:39:55.390469Z"
    },
    "id": "qPOfPkm7n2PG",
    "papermill": {
     "duration": 0.05455,
     "end_time": "2023-04-29T09:39:55.395072",
     "exception": false,
     "start_time": "2023-04-29T09:39:55.340522",
     "status": "completed"
    },
    "tags": []
   },
   "outputs": [
    {
     "name": "stdout",
     "output_type": "stream",
     "text": [
      "question 1: accuracy 0.7331\n",
      "question 2: accuracy 0.9756\n",
      "question 3: accuracy 0.9351\n",
      "question 4: accuracy 0.7952\n",
      "question 5: accuracy 0.6281\n",
      "question 6: accuracy 0.7882\n",
      "question 7: accuracy 0.7462\n",
      "question 8: accuracy 0.6395\n",
      "question 9: accuracy 0.7679\n",
      "question 10: accuracy 0.5986\n",
      "question 11: accuracy 0.6582\n",
      "question 12: accuracy 0.8699\n",
      "question 13: accuracy 0.7197\n",
      "question 14: accuracy 0.7335\n",
      "question 15: accuracy 0.6109\n",
      "question 16: accuracy 0.7488\n",
      "question 17: accuracy 0.7036\n",
      "question 18: accuracy 0.9516\n",
      "******************************************************************************************\n",
      "Average accuracy: \t 0.7557583020793067\n"
     ]
    }
   ],
   "source": [
    "## Check the Accuracy for each question, and overall accuracy\n",
    "for name, value in evaluation_valid.items():\n",
    "  print(f\"question {name}: accuracy {value:.4f}\")\n",
    "print('***'*30)\n",
    "print(\"Average accuracy: \\t\", sum(evaluation_valid.values())/18)"
   ]
  },
  {
   "cell_type": "markdown",
   "id": "1157ba99",
   "metadata": {
    "id": "qtiCtfNCn2PG",
    "papermill": {
     "duration": 0.039601,
     "end_time": "2023-04-29T09:39:55.473589",
     "exception": false,
     "start_time": "2023-04-29T09:39:55.433988",
     "status": "completed"
    },
    "tags": []
   },
   "source": [
    "### `Visualize the model`\n",
    "\n",
    "One benefit of tree-based models is that we can easily visualize them. The default number of trees used in the Random Forests is 300. \n",
    "\n",
    "Let us pick one model from `models` dict and select a tree to display below."
   ]
  },
  {
   "cell_type": "code",
   "execution_count": 26,
   "id": "108d0275",
   "metadata": {
    "execution": {
     "iopub.execute_input": "2023-04-29T09:39:55.560038Z",
     "iopub.status.busy": "2023-04-29T09:39:55.559180Z",
     "iopub.status.idle": "2023-04-29T09:39:55.590349Z",
     "shell.execute_reply": "2023-04-29T09:39:55.589263Z"
    },
    "id": "od__6uAan2PG",
    "papermill": {
     "duration": 0.07852,
     "end_time": "2023-04-29T09:39:55.592822",
     "exception": false,
     "start_time": "2023-04-29T09:39:55.514302",
     "status": "completed"
    },
    "tags": []
   },
   "outputs": [
    {
     "data": {
      "text/html": [
       "\n",
       "<script src=\"https://d3js.org/d3.v6.min.js\"></script>\n",
       "<div id=\"tree_plot_3e68c3106cff4df7a35f80beb9283002\"></div>\n",
       "<script>\n",
       "/*\n",
       " * Copyright 2021 Google LLC.\n",
       " * Licensed under the Apache License, Version 2.0 (the \"License\");\n",
       " * you may not use this file except in compliance with the License.\n",
       " * You may obtain a copy of the License at\n",
       " *\n",
       " *     https://www.apache.org/licenses/LICENSE-2.0\n",
       " *\n",
       " * Unless required by applicable law or agreed to in writing, software\n",
       " * distributed under the License is distributed on an \"AS IS\" BASIS,\n",
       " * WITHOUT WARRANTIES OR CONDITIONS OF ANY KIND, either express or implied.\n",
       " * See the License for the specific language governing permissions and\n",
       " * limitations under the License.\n",
       " */\n",
       "\n",
       "/**\n",
       " *  Plotting of decision trees generated by TF-DF.\n",
       " *\n",
       " *  A tree is a recursive structure of node objects.\n",
       " *  A node contains one or more of the following components:\n",
       " *\n",
       " *    - A value: Representing the output of the node. If the node is not a leaf,\n",
       " *      the value is only present for analysis i.e. it is not used for\n",
       " *      predictions.\n",
       " *\n",
       " *    - A condition : For non-leaf nodes, the condition (also known as split)\n",
       " *      defines a binary test to branch to the positive or negative child.\n",
       " *\n",
       " *    - An explanation: Generally a plot showing the relation between the label\n",
       " *      and the condition to give insights about the effect of the condition.\n",
       " *\n",
       " *    - Two children : For non-leaf nodes, the children nodes. The first\n",
       " *      children (i.e. \"node.children[0]\") is the negative children (drawn in\n",
       " *      red). The second children is the positive one (drawn in green).\n",
       " *\n",
       " */\n",
       "\n",
       "/**\n",
       " * Plots a single decision tree into a DOM element.\n",
       " * @param {!options} options Dictionary of configurations.\n",
       " * @param {!tree} raw_tree Recursive tree structure.\n",
       " * @param {string} canvas_id Id of the output dom element.\n",
       " */\n",
       "function display_tree(options, raw_tree, canvas_id) {\n",
       "  console.log(options);\n",
       "\n",
       "  // Determine the node placement.\n",
       "  const tree_struct = d3.tree().nodeSize(\n",
       "      [options.node_y_offset, options.node_x_offset])(d3.hierarchy(raw_tree));\n",
       "\n",
       "  // Boundaries of the node placement.\n",
       "  let x_min = Infinity;\n",
       "  let x_max = -x_min;\n",
       "  let y_min = Infinity;\n",
       "  let y_max = -x_min;\n",
       "\n",
       "  tree_struct.each(d => {\n",
       "    if (d.x > x_max) x_max = d.x;\n",
       "    if (d.x < x_min) x_min = d.x;\n",
       "    if (d.y > y_max) y_max = d.y;\n",
       "    if (d.y < y_min) y_min = d.y;\n",
       "  });\n",
       "\n",
       "  // Size of the plot.\n",
       "  const width = y_max - y_min + options.node_x_size + options.margin * 2;\n",
       "  const height = x_max - x_min + options.node_y_size + options.margin * 2 +\n",
       "      options.node_y_offset - options.node_y_size;\n",
       "\n",
       "  const plot = d3.select(canvas_id);\n",
       "\n",
       "  // Tool tip\n",
       "  options.tooltip = plot.append('div')\n",
       "                        .attr('width', 100)\n",
       "                        .attr('height', 100)\n",
       "                        .style('padding', '4px')\n",
       "                        .style('background', '#fff')\n",
       "                        .style('box-shadow', '4px 4px 0px rgba(0,0,0,0.1)')\n",
       "                        .style('border', '1px solid black')\n",
       "                        .style('font-family', 'sans-serif')\n",
       "                        .style('font-size', options.font_size)\n",
       "                        .style('position', 'absolute')\n",
       "                        .style('z-index', '10')\n",
       "                        .attr('pointer-events', 'none')\n",
       "                        .style('display', 'none');\n",
       "\n",
       "  // Create canvas\n",
       "  const svg = plot.append('svg').attr('width', width).attr('height', height);\n",
       "  const graph =\n",
       "      svg.style('overflow', 'visible')\n",
       "          .append('g')\n",
       "          .attr('font-family', 'sans-serif')\n",
       "          .attr('font-size', options.font_size)\n",
       "          .attr(\n",
       "              'transform',\n",
       "              () => `translate(${options.margin},${\n",
       "                  - x_min + options.node_y_offset / 2 + options.margin})`);\n",
       "\n",
       "  // Plot bounding box.\n",
       "  if (options.show_plot_bounding_box) {\n",
       "    svg.append('rect')\n",
       "        .attr('width', width)\n",
       "        .attr('height', height)\n",
       "        .attr('fill', 'none')\n",
       "        .attr('stroke-width', 1.0)\n",
       "        .attr('stroke', 'black');\n",
       "  }\n",
       "\n",
       "  // Draw the edges.\n",
       "  display_edges(options, graph, tree_struct);\n",
       "\n",
       "  // Draw the nodes.\n",
       "  display_nodes(options, graph, tree_struct);\n",
       "}\n",
       "\n",
       "/**\n",
       " * Draw the nodes of the tree.\n",
       " * @param {!options} options Dictionary of configurations.\n",
       " * @param {!graph} graph D3 search handle containing the graph.\n",
       " * @param {!tree_struct} tree_struct Structure of the tree (node placement,\n",
       " *     data, etc.).\n",
       " */\n",
       "function display_nodes(options, graph, tree_struct) {\n",
       "  const nodes = graph.append('g')\n",
       "                    .selectAll('g')\n",
       "                    .data(tree_struct.descendants())\n",
       "                    .join('g')\n",
       "                    .attr('transform', d => `translate(${d.y},${d.x})`);\n",
       "\n",
       "  nodes.append('rect')\n",
       "      .attr('x', 0.5)\n",
       "      .attr('y', 0.5)\n",
       "      .attr('width', options.node_x_size)\n",
       "      .attr('height', options.node_y_size)\n",
       "      .attr('stroke', 'lightgrey')\n",
       "      .attr('stroke-width', 1)\n",
       "      .attr('fill', 'white')\n",
       "      .attr('y', -options.node_y_size / 2);\n",
       "\n",
       "  // Brackets on the right of condition nodes without children.\n",
       "  non_leaf_node_without_children =\n",
       "      nodes.filter(node => node.data.condition != null && node.children == null)\n",
       "          .append('g')\n",
       "          .attr('transform', `translate(${options.node_x_size},0)`);\n",
       "\n",
       "  non_leaf_node_without_children.append('path')\n",
       "      .attr('d', 'M0,0 C 10,0 0,10 10,10')\n",
       "      .attr('fill', 'none')\n",
       "      .attr('stroke-width', 1.0)\n",
       "      .attr('stroke', '#F00');\n",
       "\n",
       "  non_leaf_node_without_children.append('path')\n",
       "      .attr('d', 'M0,0 C 10,0 0,-10 10,-10')\n",
       "      .attr('fill', 'none')\n",
       "      .attr('stroke-width', 1.0)\n",
       "      .attr('stroke', '#0F0');\n",
       "\n",
       "  const node_content = nodes.append('g').attr(\n",
       "      'transform',\n",
       "      `translate(0,${options.node_padding - options.node_y_size / 2})`);\n",
       "\n",
       "  node_content.append(node => create_node_element(options, node));\n",
       "}\n",
       "\n",
       "/**\n",
       " * Creates the D3 content for a single node.\n",
       " * @param {!options} options Dictionary of configurations.\n",
       " * @param {!node} node Node to draw.\n",
       " * @return {!d3} D3 content.\n",
       " */\n",
       "function create_node_element(options, node) {\n",
       "  // Output accumulator.\n",
       "  let output = {\n",
       "    // Content to draw.\n",
       "    content: d3.create('svg:g'),\n",
       "    // Vertical offset to the next element to draw.\n",
       "    vertical_offset: 0\n",
       "  };\n",
       "\n",
       "  // Conditions.\n",
       "  if (node.data.condition != null) {\n",
       "    display_condition(options, node.data.condition, output);\n",
       "  }\n",
       "\n",
       "  // Values.\n",
       "  if (node.data.value != null) {\n",
       "    display_value(options, node.data.value, output);\n",
       "  }\n",
       "\n",
       "  // Explanations.\n",
       "  if (node.data.explanation != null) {\n",
       "    display_explanation(options, node.data.explanation, output);\n",
       "  }\n",
       "\n",
       "  return output.content.node();\n",
       "}\n",
       "\n",
       "\n",
       "/**\n",
       " * Adds a single line of text inside of a node.\n",
       " * @param {!options} options Dictionary of configurations.\n",
       " * @param {string} text Text to display.\n",
       " * @param {!output} output Output display accumulator.\n",
       " */\n",
       "function display_node_text(options, text, output) {\n",
       "  output.content.append('text')\n",
       "      .attr('x', options.node_padding)\n",
       "      .attr('y', output.vertical_offset)\n",
       "      .attr('alignment-baseline', 'hanging')\n",
       "      .text(text);\n",
       "  output.vertical_offset += 10;\n",
       "}\n",
       "\n",
       "/**\n",
       " * Adds a single line of text inside of a node with a tooltip.\n",
       " * @param {!options} options Dictionary of configurations.\n",
       " * @param {string} text Text to display.\n",
       " * @param {string} tooltip Text in the Tooltip.\n",
       " * @param {!output} output Output display accumulator.\n",
       " */\n",
       "function display_node_text_with_tooltip(options, text, tooltip, output) {\n",
       "  const item = output.content.append('text')\n",
       "                   .attr('x', options.node_padding)\n",
       "                   .attr('alignment-baseline', 'hanging')\n",
       "                   .text(text);\n",
       "\n",
       "  add_tooltip(options, item, () => tooltip);\n",
       "  output.vertical_offset += 10;\n",
       "}\n",
       "\n",
       "/**\n",
       " * Adds a tooltip to a dom element.\n",
       " * @param {!options} options Dictionary of configurations.\n",
       " * @param {!dom} target Dom element to equip with a tooltip.\n",
       " * @param {!func} get_content Generates the html content of the tooltip.\n",
       " */\n",
       "function add_tooltip(options, target, get_content) {\n",
       "  function show(d) {\n",
       "    options.tooltip.style('display', 'block');\n",
       "    options.tooltip.html(get_content());\n",
       "  }\n",
       "\n",
       "  function hide(d) {\n",
       "    options.tooltip.style('display', 'none');\n",
       "  }\n",
       "\n",
       "  function move(d) {\n",
       "    options.tooltip.style('display', 'block');\n",
       "    options.tooltip.style('left', (d.pageX + 5) + 'px');\n",
       "    options.tooltip.style('top', d.pageY + 'px');\n",
       "  }\n",
       "\n",
       "  target.on('mouseover', show);\n",
       "  target.on('mouseout', hide);\n",
       "  target.on('mousemove', move);\n",
       "}\n",
       "\n",
       "/**\n",
       " * Adds a condition inside of a node.\n",
       " * @param {!options} options Dictionary of configurations.\n",
       " * @param {!condition} condition Condition to display.\n",
       " * @param {!output} output Output display accumulator.\n",
       " */\n",
       "function display_condition(options, condition, output) {\n",
       "  threshold_format = d3.format('r');\n",
       "\n",
       "  if (condition.type === 'IS_MISSING') {\n",
       "    display_node_text(options, `${condition.attribute} is missing`, output);\n",
       "    return;\n",
       "  }\n",
       "\n",
       "  if (condition.type === 'IS_TRUE') {\n",
       "    display_node_text(options, `${condition.attribute} is true`, output);\n",
       "    return;\n",
       "  }\n",
       "\n",
       "  if (condition.type === 'NUMERICAL_IS_HIGHER_THAN') {\n",
       "    format = d3.format('r');\n",
       "    display_node_text(\n",
       "        options,\n",
       "        `${condition.attribute} >= ${threshold_format(condition.threshold)}`,\n",
       "        output);\n",
       "    return;\n",
       "  }\n",
       "\n",
       "  if (condition.type === 'CATEGORICAL_IS_IN') {\n",
       "    display_node_text_with_tooltip(\n",
       "        options, `${condition.attribute} in [...]`,\n",
       "        `${condition.attribute} in [${condition.mask}]`, output);\n",
       "    return;\n",
       "  }\n",
       "\n",
       "  if (condition.type === 'CATEGORICAL_SET_CONTAINS') {\n",
       "    display_node_text_with_tooltip(\n",
       "        options, `${condition.attribute} intersect [...]`,\n",
       "        `${condition.attribute} intersect [${condition.mask}]`, output);\n",
       "    return;\n",
       "  }\n",
       "\n",
       "  if (condition.type === 'NUMERICAL_SPARSE_OBLIQUE') {\n",
       "    display_node_text_with_tooltip(\n",
       "        options, `Sparse oblique split...`,\n",
       "        `[${condition.attributes}]*[${condition.weights}]>=${\n",
       "            threshold_format(condition.threshold)}`,\n",
       "        output);\n",
       "    return;\n",
       "  }\n",
       "\n",
       "  display_node_text(\n",
       "      options, `Non supported condition ${condition.type}`, output);\n",
       "}\n",
       "\n",
       "/**\n",
       " * Adds a value inside of a node.\n",
       " * @param {!options} options Dictionary of configurations.\n",
       " * @param {!value} value Value to display.\n",
       " * @param {!output} output Output display accumulator.\n",
       " */\n",
       "function display_value(options, value, output) {\n",
       "  if (value.type === 'PROBABILITY') {\n",
       "    const left_margin = 0;\n",
       "    const right_margin = 50;\n",
       "    const plot_width = options.node_x_size - options.node_padding * 2 -\n",
       "        left_margin - right_margin;\n",
       "\n",
       "    let cusum = Array.from(d3.cumsum(value.distribution));\n",
       "    cusum.unshift(0);\n",
       "    const distribution_plot = output.content.append('g').attr(\n",
       "        'transform', `translate(0,${output.vertical_offset + 0.5})`);\n",
       "\n",
       "    distribution_plot.selectAll('rect')\n",
       "        .data(value.distribution)\n",
       "        .join('rect')\n",
       "        .attr('height', 10)\n",
       "        .attr(\n",
       "            'x',\n",
       "            (d, i) =>\n",
       "                (cusum[i] * plot_width + left_margin + options.node_padding))\n",
       "        .attr('width', (d, i) => d * plot_width)\n",
       "        .style('fill', (d, i) => d3.schemeSet1[i]);\n",
       "\n",
       "    const num_examples =\n",
       "        output.content.append('g')\n",
       "            .attr('transform', `translate(0,${output.vertical_offset})`)\n",
       "            .append('text')\n",
       "            .attr('x', options.node_x_size - options.node_padding)\n",
       "            .attr('alignment-baseline', 'hanging')\n",
       "            .attr('text-anchor', 'end')\n",
       "            .text(`(${value.num_examples})`);\n",
       "\n",
       "    const distribution_details = d3.create('ul');\n",
       "    distribution_details.selectAll('li')\n",
       "        .data(value.distribution)\n",
       "        .join('li')\n",
       "        .append('span')\n",
       "        .text(\n",
       "            (d, i) =>\n",
       "                'class ' + i + ': ' + d3.format('.3%')(value.distribution[i]));\n",
       "\n",
       "    add_tooltip(options, distribution_plot, () => distribution_details.html());\n",
       "    add_tooltip(options, num_examples, () => 'Number of examples');\n",
       "\n",
       "    output.vertical_offset += 10;\n",
       "    return;\n",
       "  }\n",
       "\n",
       "  if (value.type === 'REGRESSION') {\n",
       "    display_node_text(\n",
       "        options,\n",
       "        'value: ' + d3.format('r')(value.value) + ` (` +\n",
       "            d3.format('.6')(value.num_examples) + `)`,\n",
       "        output);\n",
       "    return;\n",
       "  }\n",
       "\n",
       "  display_node_text(options, `Non supported value ${value.type}`, output);\n",
       "}\n",
       "\n",
       "/**\n",
       " * Adds an explanation inside of a node.\n",
       " * @param {!options} options Dictionary of configurations.\n",
       " * @param {!explanation} explanation Explanation to display.\n",
       " * @param {!output} output Output display accumulator.\n",
       " */\n",
       "function display_explanation(options, explanation, output) {\n",
       "  // Margin before the explanation.\n",
       "  output.vertical_offset += 10;\n",
       "\n",
       "  display_node_text(\n",
       "      options, `Non supported explanation ${explanation.type}`, output);\n",
       "}\n",
       "\n",
       "\n",
       "/**\n",
       " * Draw the edges of the tree.\n",
       " * @param {!options} options Dictionary of configurations.\n",
       " * @param {!graph} graph D3 search handle containing the graph.\n",
       " * @param {!tree_struct} tree_struct Structure of the tree (node placement,\n",
       " *     data, etc.).\n",
       " */\n",
       "function display_edges(options, graph, tree_struct) {\n",
       "  // Draw an edge between a parent and a child node with a bezier.\n",
       "  function draw_single_edge(d) {\n",
       "    return 'M' + (d.source.y + options.node_x_size) + ',' + d.source.x + ' C' +\n",
       "        (d.source.y + options.node_x_size + options.edge_rounding) + ',' +\n",
       "        d.source.x + ' ' + (d.target.y - options.edge_rounding) + ',' +\n",
       "        d.target.x + ' ' + d.target.y + ',' + d.target.x;\n",
       "  }\n",
       "\n",
       "  graph.append('g')\n",
       "      .attr('fill', 'none')\n",
       "      .attr('stroke-width', 1.2)\n",
       "      .selectAll('path')\n",
       "      .data(tree_struct.links())\n",
       "      .join('path')\n",
       "      .attr('d', draw_single_edge)\n",
       "      .attr(\n",
       "          'stroke', d => (d.target === d.source.children[0]) ? '#0F0' : '#F00');\n",
       "}\n",
       "\n",
       "display_tree({\"margin\": 10, \"node_x_size\": 160, \"node_y_size\": 28, \"node_x_offset\": 180, \"node_y_offset\": 33, \"font_size\": 10, \"edge_rounding\": 20, \"node_padding\": 2, \"show_plot_bounding_box\": false}, {\"value\": {\"type\": \"PROBABILITY\", \"distribution\": [0.019629688577643377, 0.9803703114223566], \"num_examples\": 18849.0}, \"condition\": {\"type\": \"NUMERICAL_IS_HIGHER_THAN\", \"attribute\": \"hover_duration\", \"threshold\": 899.2857055664062}, \"children\": [{\"value\": {\"type\": \"PROBABILITY\", \"distribution\": [0.01640500970188746, 0.9835949902981126], \"num_examples\": 17007.0}, \"condition\": {\"type\": \"NUMERICAL_IS_HIGHER_THAN\", \"attribute\": \"elapsed_time_std\", \"threshold\": 96281.765625}, \"children\": [{\"value\": {\"type\": \"PROBABILITY\", \"distribution\": [0.02693938638064355, 0.9730606136193565], \"num_examples\": 4009.0}, \"condition\": {\"type\": \"NUMERICAL_IS_HIGHER_THAN\", \"attribute\": \"hover_duration\", \"threshold\": 1523.666748046875}, \"children\": [{\"value\": {\"type\": \"PROBABILITY\", \"distribution\": [0.02277777777777778, 0.9772222222222222], \"num_examples\": 3600.0}, \"condition\": {\"type\": \"NUMERICAL_IS_HIGHER_THAN\", \"attribute\": \"screen_coor_y\", \"threshold\": 390.227294921875}}, {\"value\": {\"type\": \"PROBABILITY\", \"distribution\": [0.06356968215158924, 0.9364303178484108], \"num_examples\": 409.0}, \"condition\": {\"type\": \"NUMERICAL_IS_HIGHER_THAN\", \"attribute\": \"room_coor_x_std\", \"threshold\": 388.6933898925781}}]}, {\"value\": {\"type\": \"PROBABILITY\", \"distribution\": [0.01315587013386675, 0.9868441298661332], \"num_examples\": 12998.0}, \"condition\": {\"type\": \"NUMERICAL_IS_HIGHER_THAN\", \"attribute\": \"screen_coor_x\", \"threshold\": 403.44024658203125}, \"children\": [{\"value\": {\"type\": \"PROBABILITY\", \"distribution\": [0.011454753722794959, 0.9885452462772051], \"num_examples\": 11349.0}, \"condition\": {\"type\": \"NUMERICAL_IS_HIGHER_THAN\", \"attribute\": \"screen_coor_x_std\", \"threshold\": 211.3385009765625}}, {\"value\": {\"type\": \"PROBABILITY\", \"distribution\": [0.024863553668890235, 0.9751364463311097], \"num_examples\": 1649.0}, \"condition\": {\"type\": \"NUMERICAL_IS_HIGHER_THAN\", \"attribute\": \"screen_coor_x\", \"threshold\": 380.98309326171875}}]}]}, {\"value\": {\"type\": \"PROBABILITY\", \"distribution\": [0.0494028230184582, 0.9505971769815418], \"num_examples\": 1842.0}, \"condition\": {\"type\": \"NUMERICAL_IS_HIGHER_THAN\", \"attribute\": \"level_std\", \"threshold\": 1.1438374519348145}, \"children\": [{\"value\": {\"type\": \"PROBABILITY\", \"distribution\": [0.042123485285631854, 0.9578765147143682], \"num_examples\": 1733.0}, \"condition\": {\"type\": \"NUMERICAL_IS_HIGHER_THAN\", \"attribute\": \"level_std\", \"threshold\": 1.2086488008499146}, \"children\": [{\"value\": {\"type\": \"PROBABILITY\", \"distribution\": [0.04945054945054945, 0.9505494505494505], \"num_examples\": 1456.0}, \"condition\": {\"type\": \"NUMERICAL_IS_HIGHER_THAN\", \"attribute\": \"level_std\", \"threshold\": 1.2092828750610352}}, {\"value\": {\"type\": \"PROBABILITY\", \"distribution\": [0.0036101083032490976, 0.9963898916967509], \"num_examples\": 277.0}, \"condition\": {\"type\": \"NUMERICAL_IS_HIGHER_THAN\", \"attribute\": \"room_coor_x_std\", \"threshold\": 406.6746826171875}}]}, {\"value\": {\"type\": \"PROBABILITY\", \"distribution\": [0.1651376146788991, 0.8348623853211009], \"num_examples\": 109.0}, \"condition\": {\"type\": \"NUMERICAL_IS_HIGHER_THAN\", \"attribute\": \"screen_coor_x_std\", \"threshold\": 296.4796142578125}, \"children\": [{\"value\": {\"type\": \"PROBABILITY\", \"distribution\": [0.0, 1.0], \"num_examples\": 16.0}}, {\"value\": {\"type\": \"PROBABILITY\", \"distribution\": [0.1935483870967742, 0.8064516129032258], \"num_examples\": 93.0}, \"condition\": {\"type\": \"NUMERICAL_IS_HIGHER_THAN\", \"attribute\": \"screen_coor_y\", \"threshold\": 410.88653564453125}}]}]}]}, \"#tree_plot_3e68c3106cff4df7a35f80beb9283002\")\n",
       "</script>\n"
      ],
      "text/plain": [
       "<IPython.core.display.HTML object>"
      ]
     },
     "execution_count": 26,
     "metadata": {},
     "output_type": "execute_result"
    }
   ],
   "source": [
    "## Choose on of the Models\n",
    "## Let us take the 2nd of (0-4 | the level-group)\n",
    "tfdf.model_plotter.plot_model_in_colab(models['0-4_2'], tree_idx=0, max_depth=3)"
   ]
  },
  {
   "cell_type": "markdown",
   "id": "f1dc5b84",
   "metadata": {
    "id": "emVV6509n2PG",
    "papermill": {
     "duration": 0.03815,
     "end_time": "2023-04-29T09:39:55.668721",
     "exception": false,
     "start_time": "2023-04-29T09:39:55.630571",
     "status": "completed"
    },
    "tags": []
   },
   "source": [
    "### `Features Importances`"
   ]
  },
  {
   "cell_type": "code",
   "execution_count": 27,
   "id": "83946241",
   "metadata": {
    "execution": {
     "iopub.execute_input": "2023-04-29T09:39:55.750288Z",
     "iopub.status.busy": "2023-04-29T09:39:55.748856Z",
     "iopub.status.idle": "2023-04-29T09:39:55.759936Z",
     "shell.execute_reply": "2023-04-29T09:39:55.758403Z"
    },
    "id": "d_gvL9nbn2PH",
    "papermill": {
     "duration": 0.054816,
     "end_time": "2023-04-29T09:39:55.762616",
     "exception": false,
     "start_time": "2023-04-29T09:39:55.707800",
     "status": "completed"
    },
    "tags": []
   },
   "outputs": [
    {
     "name": "stdout",
     "output_type": "stream",
     "text": [
      "Available Features Importances:\n",
      "\t NUM_AS_ROOT\n",
      "\t SUM_SCORE\n",
      "\t INV_MEAN_MIN_DEPTH\n",
      "\t NUM_NODES\n"
     ]
    }
   ],
   "source": [
    "## Get the Feature Importance from the Model\n",
    "inspector = models['0-4_2'].make_inspector()\n",
    "\n",
    "print(f\"Available Features Importances:\")\n",
    "for importance in inspector.variable_importances().keys():  \n",
    "    print(\"\\t\", importance)"
   ]
  },
  {
   "cell_type": "markdown",
   "id": "30269f0c",
   "metadata": {
    "id": "rnfYz_aGn2PH",
    "papermill": {
     "duration": 0.03825,
     "end_time": "2023-04-29T09:39:55.839611",
     "exception": false,
     "start_time": "2023-04-29T09:39:55.801361",
     "status": "completed"
    },
    "tags": []
   },
   "source": [
    "`Usually, we care with (NUM_AS_ROOT), Number of each feature splitted with in the Model`"
   ]
  },
  {
   "cell_type": "code",
   "execution_count": 28,
   "id": "153a5515",
   "metadata": {
    "execution": {
     "iopub.execute_input": "2023-04-29T09:39:55.921521Z",
     "iopub.status.busy": "2023-04-29T09:39:55.920587Z",
     "iopub.status.idle": "2023-04-29T09:39:55.929930Z",
     "shell.execute_reply": "2023-04-29T09:39:55.928070Z"
    },
    "id": "ZDsxqRrwn2PH",
    "papermill": {
     "duration": 0.055244,
     "end_time": "2023-04-29T09:39:55.932537",
     "exception": false,
     "start_time": "2023-04-29T09:39:55.877293",
     "status": "completed"
    },
    "tags": []
   },
   "outputs": [
    {
     "data": {
      "text/plain": [
       "[(\"hover_duration_std\" (1; #6), 65.0),\n",
       " (\"hover_duration\" (1; #5), 52.0),\n",
       " (\"elapsed_time_std\" (1; #2), 34.0),\n",
       " (\"level\" (1; #7), 34.0),\n",
       " (\"text_fqid_nunique\" (1; #21), 23.0),\n",
       " (\"elapsed_time\" (1; #1), 20.0),\n",
       " (\"room_coor_x_std\" (1; #13), 15.0),\n",
       " (\"room_fqid_nunique\" (1; #16), 15.0),\n",
       " (\"fqid_nunique\" (1; #4), 14.0),\n",
       " (\"level_std\" (1; #8), 9.0),\n",
       " (\"page_std\" (1; #11), 4.0),\n",
       " (\"name_nunique\" (1; #9), 3.0),\n",
       " (\"page\" (1; #10), 3.0),\n",
       " (\"screen_coor_y_std\" (1; #20), 3.0),\n",
       " (\"room_coor_y_std\" (1; #15), 2.0),\n",
       " (\"screen_coor_x_std\" (1; #18), 2.0),\n",
       " (\"room_coor_x\" (1; #12), 1.0),\n",
       " (\"room_coor_y\" (1; #14), 1.0)]"
      ]
     },
     "execution_count": 28,
     "metadata": {},
     "output_type": "execute_result"
    }
   ],
   "source": [
    "## Each line is: (feature name, (index of the feature), importance score)\n",
    "inspector.variable_importances()[\"NUM_AS_ROOT\"]"
   ]
  },
  {
   "cell_type": "markdown",
   "id": "e93fa442",
   "metadata": {
    "id": "PIK5aUH-n2PH",
    "papermill": {
     "duration": 0.037862,
     "end_time": "2023-04-29T09:39:56.009389",
     "exception": false,
     "start_time": "2023-04-29T09:39:55.971527",
     "status": "completed"
    },
    "tags": []
   },
   "source": [
    "### `Threshold-Moving for Imbalanced Classification`\n",
    ">Try to get the best threshold"
   ]
  },
  {
   "cell_type": "code",
   "execution_count": 29,
   "id": "48c11846",
   "metadata": {
    "execution": {
     "iopub.execute_input": "2023-04-29T09:39:56.095753Z",
     "iopub.status.busy": "2023-04-29T09:39:56.094445Z",
     "iopub.status.idle": "2023-04-29T09:39:57.371261Z",
     "shell.execute_reply": "2023-04-29T09:39:57.369423Z"
    },
    "id": "2wptRs3In2PH",
    "papermill": {
     "duration": 1.323509,
     "end_time": "2023-04-29T09:39:57.374936",
     "exception": false,
     "start_time": "2023-04-29T09:39:56.051427",
     "status": "completed"
    },
    "tags": []
   },
   "outputs": [
    {
     "name": "stdout",
     "output_type": "stream",
     "text": [
      "Best threshold  0.7100000000000003 \tF1 score  0.67396307\n"
     ]
    }
   ],
   "source": [
    "## The Defualt threshold is (0.5)\n",
    "## Try that for this Notebook\n",
    "true_df = pd.DataFrame(data=np.zeros((len(users_list_valid),18)), index=users_list_valid)\n",
    "for i in range(18):\n",
    "    # Get the true labels.\n",
    "    tmp = data_labels.loc[data_labels.question == i+1].set_index('session').loc[users_list_valid]\n",
    "    true_df[i] = tmp.correct.values\n",
    "\n",
    "max_score = 0\n",
    "best_threshold = 0\n",
    "\n",
    "# Loop through threshold values from 0.4 to 0.8 and select the threshold with \n",
    "# the highest `F1 score`.\n",
    "for threshold in np.arange(0.4, 0.8, 0.01):\n",
    "    metric = tfa.metrics.F1Score(num_classes=2,average=\"macro\",threshold=threshold)\n",
    "    y_true = tf.one_hot(true_df.values.reshape((-1)), depth=2)\n",
    "    y_pred = tf.one_hot((df_prediction.values.reshape((-1))>threshold).astype('int'), depth=2)\n",
    "    metric.update_state(y_true, y_pred)\n",
    "    f1_score = metric.result().numpy()\n",
    "    if f1_score > max_score:\n",
    "        max_score = f1_score\n",
    "        best_threshold = threshold\n",
    "        \n",
    "print(\"Best threshold \", best_threshold, \"\\tF1 score \", max_score)"
   ]
  },
  {
   "cell_type": "markdown",
   "id": "2ede65e0",
   "metadata": {
    "id": "ezA40GQ4n2PH",
    "papermill": {
     "duration": 0.040967,
     "end_time": "2023-04-29T09:39:57.468817",
     "exception": false,
     "start_time": "2023-04-29T09:39:57.427850",
     "status": "completed"
    },
    "tags": []
   },
   "source": [
    "### `Submission`"
   ]
  },
  {
   "cell_type": "code",
   "execution_count": 30,
   "id": "e10895ce",
   "metadata": {
    "execution": {
     "iopub.execute_input": "2023-04-29T09:39:57.549357Z",
     "iopub.status.busy": "2023-04-29T09:39:57.548922Z",
     "iopub.status.idle": "2023-04-29T09:40:03.814527Z",
     "shell.execute_reply": "2023-04-29T09:40:03.813356Z"
    },
    "id": "gHiXTnTVn2PI",
    "papermill": {
     "duration": 6.310198,
     "end_time": "2023-04-29T09:40:03.817333",
     "exception": false,
     "start_time": "2023-04-29T09:39:57.507135",
     "status": "completed"
    },
    "tags": []
   },
   "outputs": [
    {
     "name": "stdout",
     "output_type": "stream",
     "text": [
      "This version of the API is not optimized and should not be used to estimate the runtime of your code on the hidden test set.\n",
      "1/1 [==============================] - 0s 99ms/step\n",
      "1/1 [==============================] - 0s 104ms/step\n",
      "1/1 [==============================] - 0s 76ms/step\n",
      "1/1 [==============================] - 0s 69ms/step\n",
      "1/1 [==============================] - 0s 71ms/step\n",
      "1/1 [==============================] - 0s 68ms/step\n",
      "1/1 [==============================] - 0s 73ms/step\n",
      "1/1 [==============================] - 0s 73ms/step\n",
      "1/1 [==============================] - 0s 70ms/step\n",
      "1/1 [==============================] - 0s 70ms/step\n",
      "1/1 [==============================] - 0s 72ms/step\n",
      "1/1 [==============================] - 0s 69ms/step\n",
      "1/1 [==============================] - 0s 69ms/step\n",
      "1/1 [==============================] - 0s 71ms/step\n",
      "1/1 [==============================] - 0s 69ms/step\n",
      "1/1 [==============================] - 0s 72ms/step\n",
      "1/1 [==============================] - 0s 71ms/step\n",
      "1/1 [==============================] - 0s 72ms/step\n",
      "1/1 [==============================] - 0s 71ms/step\n",
      "1/1 [==============================] - 0s 75ms/step\n",
      "1/1 [==============================] - 0s 71ms/step\n",
      "1/1 [==============================] - 0s 70ms/step\n",
      "1/1 [==============================] - 0s 74ms/step\n",
      "1/1 [==============================] - 0s 69ms/step\n",
      "1/1 [==============================] - 0s 71ms/step\n",
      "1/1 [==============================] - 0s 70ms/step\n",
      "1/1 [==============================] - 0s 79ms/step\n",
      "1/1 [==============================] - 0s 72ms/step\n",
      "1/1 [==============================] - 0s 75ms/step\n",
      "1/1 [==============================] - 0s 69ms/step\n",
      "1/1 [==============================] - 0s 70ms/step\n",
      "1/1 [==============================] - 0s 70ms/step\n",
      "1/1 [==============================] - 0s 72ms/step\n",
      "1/1 [==============================] - 0s 72ms/step\n",
      "1/1 [==============================] - 0s 69ms/step\n",
      "1/1 [==============================] - 0s 74ms/step\n",
      "1/1 [==============================] - 0s 72ms/step\n",
      "1/1 [==============================] - 0s 71ms/step\n",
      "1/1 [==============================] - 0s 71ms/step\n",
      "1/1 [==============================] - 0s 88ms/step\n",
      "1/1 [==============================] - 0s 89ms/step\n",
      "1/1 [==============================] - 0s 83ms/step\n",
      "1/1 [==============================] - 0s 79ms/step\n",
      "1/1 [==============================] - 0s 75ms/step\n",
      "1/1 [==============================] - 0s 78ms/step\n",
      "1/1 [==============================] - 0s 77ms/step\n",
      "1/1 [==============================] - 0s 75ms/step\n",
      "1/1 [==============================] - 0s 77ms/step\n",
      "1/1 [==============================] - 0s 77ms/step\n",
      "1/1 [==============================] - 0s 76ms/step\n",
      "1/1 [==============================] - 0s 75ms/step\n",
      "1/1 [==============================] - 0s 72ms/step\n",
      "1/1 [==============================] - 0s 70ms/step\n",
      "1/1 [==============================] - 0s 71ms/step\n"
     ]
    }
   ],
   "source": [
    "## Submission\n",
    "import jo_wilder\n",
    "env = jo_wilder.make_env()\n",
    "iter_test = env.iter_test()\n",
    "\n",
    "limits = {'0-4':(1, 4), '5-12':(4, 14), '13-22':(14, 19)}\n",
    "\n",
    "for (test, sample_submission) in iter_test:\n",
    "    test_df = feature_engineering(test)\n",
    "    grp = test_df.level_group.values[0]\n",
    "    a,b = limits[grp]\n",
    "    for t in range(a,b):\n",
    "        rfm = models[f'{grp}_{t}']\n",
    "        test_ds = tfdf.keras.pd_dataframe_to_tf_dataset(test_df.loc[:, test_df.columns != 'level_group'])\n",
    "        predictions = rfm.predict(test_ds)\n",
    "        mask = sample_submission.session_id.str.contains(f'q{t}')\n",
    "        n_predictions = (predictions > best_threshold).astype(int)\n",
    "        sample_submission.loc[mask,'correct'] = n_predictions.flatten()\n",
    "    \n",
    "    env.predict(sample_submission)"
   ]
  },
  {
   "cell_type": "code",
   "execution_count": 31,
   "id": "1c1fa725",
   "metadata": {
    "execution": {
     "iopub.execute_input": "2023-04-29T09:40:03.910239Z",
     "iopub.status.busy": "2023-04-29T09:40:03.909417Z",
     "iopub.status.idle": "2023-04-29T09:40:05.127611Z",
     "shell.execute_reply": "2023-04-29T09:40:05.126228Z"
    },
    "id": "iYBXokAyn2PI",
    "papermill": {
     "duration": 1.267273,
     "end_time": "2023-04-29T09:40:05.130330",
     "exception": false,
     "start_time": "2023-04-29T09:40:03.863057",
     "status": "completed"
    },
    "tags": []
   },
   "outputs": [
    {
     "name": "stdout",
     "output_type": "stream",
     "text": [
      "session_id,correct\r\n",
      "20090109393214576_q1,1\r\n",
      "20090109393214576_q2,1\r\n",
      "20090109393214576_q3,1\r\n",
      "20090109393214576_q4,1\r\n",
      "20090109393214576_q5,0\r\n",
      "20090109393214576_q6,1\r\n",
      "20090109393214576_q7,1\r\n",
      "20090109393214576_q8,1\r\n",
      "20090109393214576_q9,1\r\n"
     ]
    }
   ],
   "source": [
    "! head submission.csv"
   ]
  },
  {
   "cell_type": "code",
   "execution_count": null,
   "id": "e5271aa1",
   "metadata": {
    "papermill": {
     "duration": 0.045614,
     "end_time": "2023-04-29T09:40:05.220275",
     "exception": false,
     "start_time": "2023-04-29T09:40:05.174661",
     "status": "completed"
    },
    "tags": []
   },
   "outputs": [],
   "source": []
  }
 ],
 "metadata": {
  "kernelspec": {
   "display_name": "Python 3",
   "language": "python",
   "name": "python3"
  },
  "language_info": {
   "codemirror_mode": {
    "name": "ipython",
    "version": 3
   },
   "file_extension": ".py",
   "mimetype": "text/x-python",
   "name": "python",
   "nbconvert_exporter": "python",
   "pygments_lexer": "ipython3",
   "version": "3.7.12"
  },
  "papermill": {
   "default_parameters": {},
   "duration": 714.205184,
   "end_time": "2023-04-29T09:40:08.426803",
   "environment_variables": {},
   "exception": null,
   "input_path": "__notebook__.ipynb",
   "output_path": "__notebook__.ipynb",
   "parameters": {},
   "start_time": "2023-04-29T09:28:14.221619",
   "version": "2.4.0"
  }
 },
 "nbformat": 4,
 "nbformat_minor": 5
}
